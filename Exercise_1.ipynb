{
 "cells": [
  {
   "cell_type": "markdown",
   "metadata": {
    "id": "lLzeq-VNFLor"
   },
   "source": [
    "#### **MBD 2023-2024**\n",
    "# **Fundamentals of Deep Learning**\n",
    "\n",
    "## **Final project**\n"
   ]
  },
  {
   "cell_type": "code",
   "execution_count": 1,
   "metadata": {
    "colab": {
     "base_uri": "https://localhost:8080/"
    },
    "id": "7QH6G_Qora7o",
    "outputId": "b6cce717-bdcf-452a-8f42-0279fa4b3caa"
   },
   "outputs": [
    {
     "name": "stdout",
     "output_type": "stream",
     "text": [
      "Requirement already satisfied: tensorflow in /usr/local/lib/python3.10/dist-packages (2.15.0)\n",
      "Requirement already satisfied: absl-py>=1.0.0 in /usr/local/lib/python3.10/dist-packages (from tensorflow) (1.4.0)\n",
      "Requirement already satisfied: astunparse>=1.6.0 in /usr/local/lib/python3.10/dist-packages (from tensorflow) (1.6.3)\n",
      "Requirement already satisfied: flatbuffers>=23.5.26 in /usr/local/lib/python3.10/dist-packages (from tensorflow) (24.3.25)\n",
      "Requirement already satisfied: gast!=0.5.0,!=0.5.1,!=0.5.2,>=0.2.1 in /usr/local/lib/python3.10/dist-packages (from tensorflow) (0.5.4)\n",
      "Requirement already satisfied: google-pasta>=0.1.1 in /usr/local/lib/python3.10/dist-packages (from tensorflow) (0.2.0)\n",
      "Requirement already satisfied: h5py>=2.9.0 in /usr/local/lib/python3.10/dist-packages (from tensorflow) (3.9.0)\n",
      "Requirement already satisfied: libclang>=13.0.0 in /usr/local/lib/python3.10/dist-packages (from tensorflow) (18.1.1)\n",
      "Requirement already satisfied: ml-dtypes~=0.2.0 in /usr/local/lib/python3.10/dist-packages (from tensorflow) (0.2.0)\n",
      "Requirement already satisfied: numpy<2.0.0,>=1.23.5 in /usr/local/lib/python3.10/dist-packages (from tensorflow) (1.25.2)\n",
      "Requirement already satisfied: opt-einsum>=2.3.2 in /usr/local/lib/python3.10/dist-packages (from tensorflow) (3.3.0)\n",
      "Requirement already satisfied: packaging in /usr/local/lib/python3.10/dist-packages (from tensorflow) (24.0)\n",
      "Requirement already satisfied: protobuf!=4.21.0,!=4.21.1,!=4.21.2,!=4.21.3,!=4.21.4,!=4.21.5,<5.0.0dev,>=3.20.3 in /usr/local/lib/python3.10/dist-packages (from tensorflow) (3.20.3)\n",
      "Requirement already satisfied: setuptools in /usr/local/lib/python3.10/dist-packages (from tensorflow) (67.7.2)\n",
      "Requirement already satisfied: six>=1.12.0 in /usr/local/lib/python3.10/dist-packages (from tensorflow) (1.16.0)\n",
      "Requirement already satisfied: termcolor>=1.1.0 in /usr/local/lib/python3.10/dist-packages (from tensorflow) (2.4.0)\n",
      "Requirement already satisfied: typing-extensions>=3.6.6 in /usr/local/lib/python3.10/dist-packages (from tensorflow) (4.10.0)\n",
      "Requirement already satisfied: wrapt<1.15,>=1.11.0 in /usr/local/lib/python3.10/dist-packages (from tensorflow) (1.14.1)\n",
      "Requirement already satisfied: tensorflow-io-gcs-filesystem>=0.23.1 in /usr/local/lib/python3.10/dist-packages (from tensorflow) (0.36.0)\n",
      "Requirement already satisfied: grpcio<2.0,>=1.24.3 in /usr/local/lib/python3.10/dist-packages (from tensorflow) (1.62.1)\n",
      "Requirement already satisfied: tensorboard<2.16,>=2.15 in /usr/local/lib/python3.10/dist-packages (from tensorflow) (2.15.2)\n",
      "Requirement already satisfied: tensorflow-estimator<2.16,>=2.15.0 in /usr/local/lib/python3.10/dist-packages (from tensorflow) (2.15.0)\n",
      "Requirement already satisfied: keras<2.16,>=2.15.0 in /usr/local/lib/python3.10/dist-packages (from tensorflow) (2.15.0)\n",
      "Requirement already satisfied: wheel<1.0,>=0.23.0 in /usr/local/lib/python3.10/dist-packages (from astunparse>=1.6.0->tensorflow) (0.43.0)\n",
      "Requirement already satisfied: google-auth<3,>=1.6.3 in /usr/local/lib/python3.10/dist-packages (from tensorboard<2.16,>=2.15->tensorflow) (2.27.0)\n",
      "Requirement already satisfied: google-auth-oauthlib<2,>=0.5 in /usr/local/lib/python3.10/dist-packages (from tensorboard<2.16,>=2.15->tensorflow) (1.2.0)\n",
      "Requirement already satisfied: markdown>=2.6.8 in /usr/local/lib/python3.10/dist-packages (from tensorboard<2.16,>=2.15->tensorflow) (3.6)\n",
      "Requirement already satisfied: requests<3,>=2.21.0 in /usr/local/lib/python3.10/dist-packages (from tensorboard<2.16,>=2.15->tensorflow) (2.31.0)\n",
      "Requirement already satisfied: tensorboard-data-server<0.8.0,>=0.7.0 in /usr/local/lib/python3.10/dist-packages (from tensorboard<2.16,>=2.15->tensorflow) (0.7.2)\n",
      "Requirement already satisfied: werkzeug>=1.0.1 in /usr/local/lib/python3.10/dist-packages (from tensorboard<2.16,>=2.15->tensorflow) (3.0.2)\n",
      "Requirement already satisfied: cachetools<6.0,>=2.0.0 in /usr/local/lib/python3.10/dist-packages (from google-auth<3,>=1.6.3->tensorboard<2.16,>=2.15->tensorflow) (5.3.3)\n",
      "Requirement already satisfied: pyasn1-modules>=0.2.1 in /usr/local/lib/python3.10/dist-packages (from google-auth<3,>=1.6.3->tensorboard<2.16,>=2.15->tensorflow) (0.4.0)\n",
      "Requirement already satisfied: rsa<5,>=3.1.4 in /usr/local/lib/python3.10/dist-packages (from google-auth<3,>=1.6.3->tensorboard<2.16,>=2.15->tensorflow) (4.9)\n",
      "Requirement already satisfied: requests-oauthlib>=0.7.0 in /usr/local/lib/python3.10/dist-packages (from google-auth-oauthlib<2,>=0.5->tensorboard<2.16,>=2.15->tensorflow) (1.3.1)\n",
      "Requirement already satisfied: charset-normalizer<4,>=2 in /usr/local/lib/python3.10/dist-packages (from requests<3,>=2.21.0->tensorboard<2.16,>=2.15->tensorflow) (3.3.2)\n",
      "Requirement already satisfied: idna<4,>=2.5 in /usr/local/lib/python3.10/dist-packages (from requests<3,>=2.21.0->tensorboard<2.16,>=2.15->tensorflow) (3.6)\n",
      "Requirement already satisfied: urllib3<3,>=1.21.1 in /usr/local/lib/python3.10/dist-packages (from requests<3,>=2.21.0->tensorboard<2.16,>=2.15->tensorflow) (2.0.7)\n",
      "Requirement already satisfied: certifi>=2017.4.17 in /usr/local/lib/python3.10/dist-packages (from requests<3,>=2.21.0->tensorboard<2.16,>=2.15->tensorflow) (2024.2.2)\n",
      "Requirement already satisfied: MarkupSafe>=2.1.1 in /usr/local/lib/python3.10/dist-packages (from werkzeug>=1.0.1->tensorboard<2.16,>=2.15->tensorflow) (2.1.5)\n",
      "Requirement already satisfied: pyasn1<0.7.0,>=0.4.6 in /usr/local/lib/python3.10/dist-packages (from pyasn1-modules>=0.2.1->google-auth<3,>=1.6.3->tensorboard<2.16,>=2.15->tensorflow) (0.6.0)\n",
      "Requirement already satisfied: oauthlib>=3.0.0 in /usr/local/lib/python3.10/dist-packages (from requests-oauthlib>=0.7.0->google-auth-oauthlib<2,>=0.5->tensorboard<2.16,>=2.15->tensorflow) (3.2.2)\n"
     ]
    }
   ],
   "source": [
    "pip install tensorflow"
   ]
  },
  {
   "cell_type": "code",
   "execution_count": 2,
   "metadata": {
    "colab": {
     "base_uri": "https://localhost:8080/"
    },
    "id": "O7fIELsP6hig",
    "outputId": "74ee30d0-7b57-4b63-deca-535265f002e6"
   },
   "outputs": [
    {
     "name": "stdout",
     "output_type": "stream",
     "text": [
      "Collecting innvestigate\n",
      "  Downloading innvestigate-2.1.2-py3-none-any.whl (66 kB)\n",
      "\u001b[?25l     \u001b[90m━━━━━━━━━━━━━━━━━━━━━━━━━━━━━━━━━━━━━━━━\u001b[0m \u001b[32m0.0/66.8 kB\u001b[0m \u001b[31m?\u001b[0m eta \u001b[36m-:--:--\u001b[0m\r",
      "\u001b[2K     \u001b[90m━━━━━━━━━━━━━━━━━━━━━━━━━━━━━━━━━━━━━━━━\u001b[0m \u001b[32m66.8/66.8 kB\u001b[0m \u001b[31m1.7 MB/s\u001b[0m eta \u001b[36m0:00:00\u001b[0m\n",
      "\u001b[?25hRequirement already satisfied: future<0.19,>=0.18 in /usr/local/lib/python3.10/dist-packages (from innvestigate) (0.18.3)\n",
      "Requirement already satisfied: matplotlib<4,>=3.5 in /usr/local/lib/python3.10/dist-packages (from innvestigate) (3.7.1)\n",
      "Requirement already satisfied: numpy<2,>=1.22 in /usr/local/lib/python3.10/dist-packages (from innvestigate) (1.25.2)\n",
      "Collecting tensorflow<2.15,>=2.6 (from innvestigate)\n",
      "  Downloading tensorflow-2.14.1-cp310-cp310-manylinux_2_17_x86_64.manylinux2014_x86_64.whl (489.9 MB)\n",
      "\u001b[2K     \u001b[90m━━━━━━━━━━━━━━━━━━━━━━━━━━━━━━━━━━━━━━━━\u001b[0m \u001b[32m489.9/489.9 MB\u001b[0m \u001b[31m2.4 MB/s\u001b[0m eta \u001b[36m0:00:00\u001b[0m\n",
      "\u001b[?25hRequirement already satisfied: contourpy>=1.0.1 in /usr/local/lib/python3.10/dist-packages (from matplotlib<4,>=3.5->innvestigate) (1.2.0)\n",
      "Requirement already satisfied: cycler>=0.10 in /usr/local/lib/python3.10/dist-packages (from matplotlib<4,>=3.5->innvestigate) (0.12.1)\n",
      "Requirement already satisfied: fonttools>=4.22.0 in /usr/local/lib/python3.10/dist-packages (from matplotlib<4,>=3.5->innvestigate) (4.50.0)\n",
      "Requirement already satisfied: kiwisolver>=1.0.1 in /usr/local/lib/python3.10/dist-packages (from matplotlib<4,>=3.5->innvestigate) (1.4.5)\n",
      "Requirement already satisfied: packaging>=20.0 in /usr/local/lib/python3.10/dist-packages (from matplotlib<4,>=3.5->innvestigate) (24.0)\n",
      "Requirement already satisfied: pillow>=6.2.0 in /usr/local/lib/python3.10/dist-packages (from matplotlib<4,>=3.5->innvestigate) (9.4.0)\n",
      "Requirement already satisfied: pyparsing>=2.3.1 in /usr/local/lib/python3.10/dist-packages (from matplotlib<4,>=3.5->innvestigate) (3.1.2)\n",
      "Requirement already satisfied: python-dateutil>=2.7 in /usr/local/lib/python3.10/dist-packages (from matplotlib<4,>=3.5->innvestigate) (2.8.2)\n",
      "Requirement already satisfied: absl-py>=1.0.0 in /usr/local/lib/python3.10/dist-packages (from tensorflow<2.15,>=2.6->innvestigate) (1.4.0)\n",
      "Requirement already satisfied: astunparse>=1.6.0 in /usr/local/lib/python3.10/dist-packages (from tensorflow<2.15,>=2.6->innvestigate) (1.6.3)\n",
      "Requirement already satisfied: flatbuffers>=23.5.26 in /usr/local/lib/python3.10/dist-packages (from tensorflow<2.15,>=2.6->innvestigate) (24.3.25)\n",
      "Requirement already satisfied: gast!=0.5.0,!=0.5.1,!=0.5.2,>=0.2.1 in /usr/local/lib/python3.10/dist-packages (from tensorflow<2.15,>=2.6->innvestigate) (0.5.4)\n",
      "Requirement already satisfied: google-pasta>=0.1.1 in /usr/local/lib/python3.10/dist-packages (from tensorflow<2.15,>=2.6->innvestigate) (0.2.0)\n",
      "Requirement already satisfied: h5py>=2.9.0 in /usr/local/lib/python3.10/dist-packages (from tensorflow<2.15,>=2.6->innvestigate) (3.9.0)\n",
      "Requirement already satisfied: libclang>=13.0.0 in /usr/local/lib/python3.10/dist-packages (from tensorflow<2.15,>=2.6->innvestigate) (18.1.1)\n",
      "Requirement already satisfied: ml-dtypes==0.2.0 in /usr/local/lib/python3.10/dist-packages (from tensorflow<2.15,>=2.6->innvestigate) (0.2.0)\n",
      "Requirement already satisfied: opt-einsum>=2.3.2 in /usr/local/lib/python3.10/dist-packages (from tensorflow<2.15,>=2.6->innvestigate) (3.3.0)\n",
      "Requirement already satisfied: protobuf!=4.21.0,!=4.21.1,!=4.21.2,!=4.21.3,!=4.21.4,!=4.21.5,<5.0.0dev,>=3.20.3 in /usr/local/lib/python3.10/dist-packages (from tensorflow<2.15,>=2.6->innvestigate) (3.20.3)\n",
      "Requirement already satisfied: setuptools in /usr/local/lib/python3.10/dist-packages (from tensorflow<2.15,>=2.6->innvestigate) (67.7.2)\n",
      "Requirement already satisfied: six>=1.12.0 in /usr/local/lib/python3.10/dist-packages (from tensorflow<2.15,>=2.6->innvestigate) (1.16.0)\n",
      "Requirement already satisfied: termcolor>=1.1.0 in /usr/local/lib/python3.10/dist-packages (from tensorflow<2.15,>=2.6->innvestigate) (2.4.0)\n",
      "Requirement already satisfied: typing-extensions>=3.6.6 in /usr/local/lib/python3.10/dist-packages (from tensorflow<2.15,>=2.6->innvestigate) (4.10.0)\n",
      "Requirement already satisfied: wrapt<1.15,>=1.11.0 in /usr/local/lib/python3.10/dist-packages (from tensorflow<2.15,>=2.6->innvestigate) (1.14.1)\n",
      "Requirement already satisfied: tensorflow-io-gcs-filesystem>=0.23.1 in /usr/local/lib/python3.10/dist-packages (from tensorflow<2.15,>=2.6->innvestigate) (0.36.0)\n",
      "Requirement already satisfied: grpcio<2.0,>=1.24.3 in /usr/local/lib/python3.10/dist-packages (from tensorflow<2.15,>=2.6->innvestigate) (1.62.1)\n",
      "Collecting tensorboard<2.15,>=2.14 (from tensorflow<2.15,>=2.6->innvestigate)\n",
      "  Downloading tensorboard-2.14.1-py3-none-any.whl (5.5 MB)\n",
      "\u001b[2K     \u001b[90m━━━━━━━━━━━━━━━━━━━━━━━━━━━━━━━━━━━━━━━━\u001b[0m \u001b[32m5.5/5.5 MB\u001b[0m \u001b[31m25.7 MB/s\u001b[0m eta \u001b[36m0:00:00\u001b[0m\n",
      "\u001b[?25hCollecting tensorflow-estimator<2.15,>=2.14.0 (from tensorflow<2.15,>=2.6->innvestigate)\n",
      "  Downloading tensorflow_estimator-2.14.0-py2.py3-none-any.whl (440 kB)\n",
      "\u001b[2K     \u001b[90m━━━━━━━━━━━━━━━━━━━━━━━━━━━━━━━━━━━━━━━━\u001b[0m \u001b[32m440.7/440.7 kB\u001b[0m \u001b[31m39.5 MB/s\u001b[0m eta \u001b[36m0:00:00\u001b[0m\n",
      "\u001b[?25hCollecting keras<2.15,>=2.14.0 (from tensorflow<2.15,>=2.6->innvestigate)\n",
      "  Downloading keras-2.14.0-py3-none-any.whl (1.7 MB)\n",
      "\u001b[2K     \u001b[90m━━━━━━━━━━━━━━━━━━━━━━━━━━━━━━━━━━━━━━━━\u001b[0m \u001b[32m1.7/1.7 MB\u001b[0m \u001b[31m18.3 MB/s\u001b[0m eta \u001b[36m0:00:00\u001b[0m\n",
      "\u001b[?25hRequirement already satisfied: wheel<1.0,>=0.23.0 in /usr/local/lib/python3.10/dist-packages (from astunparse>=1.6.0->tensorflow<2.15,>=2.6->innvestigate) (0.43.0)\n",
      "Requirement already satisfied: google-auth<3,>=1.6.3 in /usr/local/lib/python3.10/dist-packages (from tensorboard<2.15,>=2.14->tensorflow<2.15,>=2.6->innvestigate) (2.27.0)\n",
      "Collecting google-auth-oauthlib<1.1,>=0.5 (from tensorboard<2.15,>=2.14->tensorflow<2.15,>=2.6->innvestigate)\n",
      "  Downloading google_auth_oauthlib-1.0.0-py2.py3-none-any.whl (18 kB)\n",
      "Requirement already satisfied: markdown>=2.6.8 in /usr/local/lib/python3.10/dist-packages (from tensorboard<2.15,>=2.14->tensorflow<2.15,>=2.6->innvestigate) (3.6)\n",
      "Requirement already satisfied: requests<3,>=2.21.0 in /usr/local/lib/python3.10/dist-packages (from tensorboard<2.15,>=2.14->tensorflow<2.15,>=2.6->innvestigate) (2.31.0)\n",
      "Requirement already satisfied: tensorboard-data-server<0.8.0,>=0.7.0 in /usr/local/lib/python3.10/dist-packages (from tensorboard<2.15,>=2.14->tensorflow<2.15,>=2.6->innvestigate) (0.7.2)\n",
      "Requirement already satisfied: werkzeug>=1.0.1 in /usr/local/lib/python3.10/dist-packages (from tensorboard<2.15,>=2.14->tensorflow<2.15,>=2.6->innvestigate) (3.0.2)\n",
      "Requirement already satisfied: cachetools<6.0,>=2.0.0 in /usr/local/lib/python3.10/dist-packages (from google-auth<3,>=1.6.3->tensorboard<2.15,>=2.14->tensorflow<2.15,>=2.6->innvestigate) (5.3.3)\n",
      "Requirement already satisfied: pyasn1-modules>=0.2.1 in /usr/local/lib/python3.10/dist-packages (from google-auth<3,>=1.6.3->tensorboard<2.15,>=2.14->tensorflow<2.15,>=2.6->innvestigate) (0.4.0)\n",
      "Requirement already satisfied: rsa<5,>=3.1.4 in /usr/local/lib/python3.10/dist-packages (from google-auth<3,>=1.6.3->tensorboard<2.15,>=2.14->tensorflow<2.15,>=2.6->innvestigate) (4.9)\n",
      "Requirement already satisfied: requests-oauthlib>=0.7.0 in /usr/local/lib/python3.10/dist-packages (from google-auth-oauthlib<1.1,>=0.5->tensorboard<2.15,>=2.14->tensorflow<2.15,>=2.6->innvestigate) (1.3.1)\n",
      "Requirement already satisfied: charset-normalizer<4,>=2 in /usr/local/lib/python3.10/dist-packages (from requests<3,>=2.21.0->tensorboard<2.15,>=2.14->tensorflow<2.15,>=2.6->innvestigate) (3.3.2)\n",
      "Requirement already satisfied: idna<4,>=2.5 in /usr/local/lib/python3.10/dist-packages (from requests<3,>=2.21.0->tensorboard<2.15,>=2.14->tensorflow<2.15,>=2.6->innvestigate) (3.6)\n",
      "Requirement already satisfied: urllib3<3,>=1.21.1 in /usr/local/lib/python3.10/dist-packages (from requests<3,>=2.21.0->tensorboard<2.15,>=2.14->tensorflow<2.15,>=2.6->innvestigate) (2.0.7)\n",
      "Requirement already satisfied: certifi>=2017.4.17 in /usr/local/lib/python3.10/dist-packages (from requests<3,>=2.21.0->tensorboard<2.15,>=2.14->tensorflow<2.15,>=2.6->innvestigate) (2024.2.2)\n",
      "Requirement already satisfied: MarkupSafe>=2.1.1 in /usr/local/lib/python3.10/dist-packages (from werkzeug>=1.0.1->tensorboard<2.15,>=2.14->tensorflow<2.15,>=2.6->innvestigate) (2.1.5)\n",
      "Requirement already satisfied: pyasn1<0.7.0,>=0.4.6 in /usr/local/lib/python3.10/dist-packages (from pyasn1-modules>=0.2.1->google-auth<3,>=1.6.3->tensorboard<2.15,>=2.14->tensorflow<2.15,>=2.6->innvestigate) (0.6.0)\n",
      "Requirement already satisfied: oauthlib>=3.0.0 in /usr/local/lib/python3.10/dist-packages (from requests-oauthlib>=0.7.0->google-auth-oauthlib<1.1,>=0.5->tensorboard<2.15,>=2.14->tensorflow<2.15,>=2.6->innvestigate) (3.2.2)\n",
      "Installing collected packages: tensorflow-estimator, keras, google-auth-oauthlib, tensorboard, tensorflow, innvestigate\n",
      "  Attempting uninstall: tensorflow-estimator\n",
      "    Found existing installation: tensorflow-estimator 2.15.0\n",
      "    Uninstalling tensorflow-estimator-2.15.0:\n",
      "      Successfully uninstalled tensorflow-estimator-2.15.0\n",
      "  Attempting uninstall: keras\n",
      "    Found existing installation: keras 2.15.0\n",
      "    Uninstalling keras-2.15.0:\n",
      "      Successfully uninstalled keras-2.15.0\n",
      "  Attempting uninstall: google-auth-oauthlib\n",
      "    Found existing installation: google-auth-oauthlib 1.2.0\n",
      "    Uninstalling google-auth-oauthlib-1.2.0:\n",
      "      Successfully uninstalled google-auth-oauthlib-1.2.0\n",
      "  Attempting uninstall: tensorboard\n",
      "    Found existing installation: tensorboard 2.15.2\n",
      "    Uninstalling tensorboard-2.15.2:\n",
      "      Successfully uninstalled tensorboard-2.15.2\n",
      "  Attempting uninstall: tensorflow\n",
      "    Found existing installation: tensorflow 2.15.0\n",
      "    Uninstalling tensorflow-2.15.0:\n",
      "      Successfully uninstalled tensorflow-2.15.0\n",
      "\u001b[31mERROR: pip's dependency resolver does not currently take into account all the packages that are installed. This behaviour is the source of the following dependency conflicts.\n",
      "tf-keras 2.15.1 requires tensorflow<2.16,>=2.15, but you have tensorflow 2.14.1 which is incompatible.\u001b[0m\u001b[31m\n",
      "\u001b[0mSuccessfully installed google-auth-oauthlib-1.0.0 innvestigate-2.1.2 keras-2.14.0 tensorboard-2.14.1 tensorflow-2.14.1 tensorflow-estimator-2.14.0\n"
     ]
    }
   ],
   "source": [
    "pip install innvestigate\n"
   ]
  },
  {
   "cell_type": "code",
   "execution_count": 18,
   "metadata": {
    "id": "ttJzkGNgTbyE"
   },
   "outputs": [],
   "source": [
    "import tensorflow as tf\n",
    "from tensorflow import keras\n",
    "from tensorflow.keras.utils import to_categorical\n",
    "from tensorflow.keras.models import Sequential\n",
    "from tensorflow.keras.layers import Dense, Flatten, BatchNormalization, Dropout\n",
    "from tensorflow.keras.layers import Conv2D, MaxPooling2D, GlobalAveragePooling2D\n",
    "from tensorflow.keras.preprocessing import image\n",
    "from sklearn.model_selection import train_test_split\n",
    "from tensorflow.keras.preprocessing.image import ImageDataGenerator\n",
    "from tensorflow.keras.callbacks import EarlyStopping, LearningRateScheduler\n",
    "from tensorflow.keras.optimizers import SGD\n",
    "from keras.regularizers import l2\n",
    "import tensorflow.keras.backend as K\n",
    "from tensorflow.keras.optimizers import Adam\n",
    "from tensorflow.keras.applications import ResNet50\n",
    "from tensorflow.keras.applications import InceptionV3\n",
    "from tensorflow.keras.callbacks import ReduceLROnPlateau\n",
    "from tensorflow.keras.applications.resnet50 import preprocess_input, decode_predictions\n",
    "from tensorflow.keras import Model\n",
    "from tensorflow.keras.applications import MobileNetV2\n",
    "from tensorflow.keras.models import Sequential\n",
    "from tensorflow.keras.layers import Dense, GlobalAveragePooling2D\n",
    "from tensorflow.keras.optimizers import Adam\n",
    "from tensorflow.keras.preprocessing.image import ImageDataGenerator\n",
    "from tensorflow.keras.callbacks import ReduceLROnPlateau, EarlyStopping\n",
    "import innvestigate\n",
    "import pandas as pd\n",
    "import numpy as np\n",
    "from PIL import Image\n",
    "from glob import iglob\n",
    "import matplotlib.pyplot as plt\n",
    "import sys"
   ]
  },
  {
   "cell_type": "code",
   "execution_count": null,
   "metadata": {
    "colab": {
     "base_uri": "https://localhost:8080/",
     "height": 200
    },
    "id": "0rhyzHaUvC7h",
    "outputId": "a5ebb54a-7347-4f37-9b46-76bc6518de9e"
   },
   "outputs": [
    {
     "ename": "SystemError",
     "evalue": "GPU device not found",
     "output_type": "error",
     "traceback": [
      "\u001b[0;31m---------------------------------------------------------------------------\u001b[0m",
      "\u001b[0;31mSystemError\u001b[0m                               Traceback (most recent call last)",
      "\u001b[0;32m<ipython-input-2-4a08da86493a>\u001b[0m in \u001b[0;36m<cell line: 4>\u001b[0;34m()\u001b[0m\n\u001b[1;32m      3\u001b[0m \u001b[0mdevice_name\u001b[0m \u001b[0;34m=\u001b[0m \u001b[0mtf\u001b[0m\u001b[0;34m.\u001b[0m\u001b[0mtest\u001b[0m\u001b[0;34m.\u001b[0m\u001b[0mgpu_device_name\u001b[0m\u001b[0;34m(\u001b[0m\u001b[0;34m)\u001b[0m\u001b[0;34m\u001b[0m\u001b[0;34m\u001b[0m\u001b[0m\n\u001b[1;32m      4\u001b[0m \u001b[0;32mif\u001b[0m \u001b[0mdevice_name\u001b[0m \u001b[0;34m!=\u001b[0m \u001b[0;34m'/device:GPU:0'\u001b[0m\u001b[0;34m:\u001b[0m\u001b[0;34m\u001b[0m\u001b[0;34m\u001b[0m\u001b[0m\n\u001b[0;32m----> 5\u001b[0;31m   \u001b[0;32mraise\u001b[0m \u001b[0mSystemError\u001b[0m\u001b[0;34m(\u001b[0m\u001b[0;34m'GPU device not found'\u001b[0m\u001b[0;34m)\u001b[0m\u001b[0;34m\u001b[0m\u001b[0;34m\u001b[0m\u001b[0m\n\u001b[0m\u001b[1;32m      6\u001b[0m \u001b[0mprint\u001b[0m\u001b[0;34m(\u001b[0m\u001b[0;34m'Found GPU at: {}'\u001b[0m\u001b[0;34m.\u001b[0m\u001b[0mformat\u001b[0m\u001b[0;34m(\u001b[0m\u001b[0mdevice_name\u001b[0m\u001b[0;34m)\u001b[0m\u001b[0;34m)\u001b[0m\u001b[0;34m\u001b[0m\u001b[0;34m\u001b[0m\u001b[0m\n",
      "\u001b[0;31mSystemError\u001b[0m: GPU device not found"
     ]
    }
   ],
   "source": [
    "#CHECK GPU\n",
    "import tensorflow as tf\n",
    "device_name = tf.test.gpu_device_name()\n",
    "if device_name != '/device:GPU:0':\n",
    "  raise SystemError('GPU device not found')\n",
    "print('Found GPU at: {}'.format(device_name))"
   ]
  },
  {
   "cell_type": "code",
   "execution_count": 5,
   "metadata": {
    "colab": {
     "base_uri": "https://localhost:8080/"
    },
    "id": "HElcOXw4NQ4H",
    "outputId": "32dbe7d2-4ef1-4e07-cf7a-5edb4fcc29ff"
   },
   "outputs": [
    {
     "name": "stdout",
     "output_type": "stream",
     "text": [
      "--2024-04-05 19:14:10--  https://github.com/mghatee/Accident-Images-Analysis-Dataset/blob/master/Accident%20Images%20Analysis%20Dataset.rar?raw=true\n",
      "Resolving github.com (github.com)... 20.205.243.166\n",
      "Connecting to github.com (github.com)|20.205.243.166|:443... connected.\n",
      "HTTP request sent, awaiting response... 302 Found\n",
      "Location: https://github.com/mghatee/Accident-Images-Analysis-Dataset/raw/master/Accident%20Images%20Analysis%20Dataset.rar [following]\n",
      "--2024-04-05 19:14:11--  https://github.com/mghatee/Accident-Images-Analysis-Dataset/raw/master/Accident%20Images%20Analysis%20Dataset.rar\n",
      "Reusing existing connection to github.com:443.\n",
      "HTTP request sent, awaiting response... 302 Found\n",
      "Location: https://raw.githubusercontent.com/mghatee/Accident-Images-Analysis-Dataset/master/Accident%20Images%20Analysis%20Dataset.rar [following]\n",
      "--2024-04-05 19:14:11--  https://raw.githubusercontent.com/mghatee/Accident-Images-Analysis-Dataset/master/Accident%20Images%20Analysis%20Dataset.rar\n",
      "Resolving raw.githubusercontent.com (raw.githubusercontent.com)... 185.199.108.133, 185.199.109.133, 185.199.110.133, ...\n",
      "Connecting to raw.githubusercontent.com (raw.githubusercontent.com)|185.199.108.133|:443... connected.\n",
      "HTTP request sent, awaiting response... 200 OK\n",
      "Length: 9684718 (9.2M) [application/octet-stream]\n",
      "Saving to: ‘data.rar’\n",
      "\n",
      "data.rar            100%[===================>]   9.24M  --.-KB/s    in 0.02s   \n",
      "\n",
      "2024-04-05 19:14:12 (384 MB/s) - ‘data.rar’ saved [9684718/9684718]\n",
      "\n"
     ]
    }
   ],
   "source": [
    "!wget https://github.com/mghatee/Accident-Images-Analysis-Dataset/blob/master/Accident%20Images%20Analysis%20Dataset.rar?raw=true -O data.rar"
   ]
  },
  {
   "cell_type": "code",
   "execution_count": 6,
   "metadata": {
    "id": "dG0NEpcHNUSF"
   },
   "outputs": [],
   "source": [
    "!unrar x -o+ -y -inul data.rar"
   ]
  },
  {
   "cell_type": "code",
   "execution_count": 7,
   "metadata": {
    "id": "upjvmOgFSrP0"
   },
   "outputs": [],
   "source": [
    "#getting the images from the base\n",
    "basepath = 'Accident Images Analysis Dataset/'\n",
    "\n",
    "def prepare_images(path, num_classes,  load_img_kwargs={}, ext='.jpg'):\n",
    "  X, y = [], []\n",
    "  for class_ in range(num_classes):\n",
    "    for img_path in iglob(path + str(class_ + 1) + '/' + '*' + ext):\n",
    "      img = image.load_img(img_path, **load_img_kwargs)\n",
    "      x = image.img_to_array(img)\n",
    "      X.append(x)\n",
    "      y.append(class_)\n",
    "  return np.array(X), np.array(y)"
   ]
  },
  {
   "cell_type": "code",
   "execution_count": 8,
   "metadata": {
    "colab": {
     "base_uri": "https://localhost:8080/"
    },
    "id": "x1p0HR1HTnR8",
    "outputId": "6a448671-d8ef-4ae4-adec-8484da053c04"
   },
   "outputs": [
    {
     "data": {
      "text/plain": [
       "(2946, 2946, array([0, 1, 2]))"
      ]
     },
     "execution_count": 8,
     "metadata": {},
     "output_type": "execute_result"
    }
   ],
   "source": [
    "X, y = prepare_images(basepath + 'Accident-Severity/', 3,  load_img_kwargs={'target_size': (224, 224)})\n",
    "\n",
    "len(X), len(y), np.unique(y)"
   ]
  },
  {
   "cell_type": "markdown",
   "metadata": {
    "id": "4eTSPTGMnDHJ"
   },
   "source": [
    "**Exercise 1A. Data preprocessing**"
   ]
  },
  {
   "cell_type": "code",
   "execution_count": 9,
   "metadata": {
    "id": "tyHY7LjYaek-"
   },
   "outputs": [],
   "source": [
    "#Reference: https://cloudxlab.com/assessment/displayslide/2533/numpy-arrays-example-reshaping-a-complex-array\n"
   ]
  },
  {
   "cell_type": "code",
   "execution_count": 10,
   "metadata": {
    "colab": {
     "base_uri": "https://localhost:8080/"
    },
    "id": "5-RvfaNNyGy2",
    "outputId": "ffd0163f-db31-43d1-d9df-827df70b62f7"
   },
   "outputs": [
    {
     "name": "stdout",
     "output_type": "stream",
     "text": [
      "(2946, 224, 224, 3)\n"
     ]
    }
   ],
   "source": [
    "print(X.shape)\n"
   ]
  },
  {
   "cell_type": "code",
   "execution_count": 11,
   "metadata": {
    "colab": {
     "base_uri": "https://localhost:8080/"
    },
    "id": "0tzL3lxsyHjD",
    "outputId": "1bce6ab3-2ff9-4ba8-d580-dab3e3d45c5c"
   },
   "outputs": [
    {
     "data": {
      "text/plain": [
       "(2062, 224, 224, 3)"
      ]
     },
     "execution_count": 11,
     "metadata": {},
     "output_type": "execute_result"
    }
   ],
   "source": [
    "# Splitting the train and test set\n",
    "X_train, X_test, y_train, y_test = train_test_split(X, y, test_size=0.30, random_state=1)\n",
    "X_train.shape"
   ]
  },
  {
   "cell_type": "code",
   "execution_count": 12,
   "metadata": {
    "colab": {
     "base_uri": "https://localhost:8080/"
    },
    "id": "NekRUKp7yVQn",
    "outputId": "d69744e0-6ae1-4f6c-f124-7d23990b5a57"
   },
   "outputs": [
    {
     "name": "stdout",
     "output_type": "stream",
     "text": [
      "[[0. 0. 1.]\n",
      " [0. 0. 1.]\n",
      " [0. 1. 0.]\n",
      " ...\n",
      " [0. 1. 0.]\n",
      " [0. 1. 0.]\n",
      " [0. 1. 0.]]\n",
      "[[0. 1. 0.]\n",
      " [0. 0. 1.]\n",
      " [0. 1. 0.]\n",
      " ...\n",
      " [1. 0. 0.]\n",
      " [0. 1. 0.]\n",
      " [0. 1. 0.]]\n"
     ]
    }
   ],
   "source": [
    "num_classes= 3\n",
    "\n",
    "y_train= to_categorical(y_train, num_classes)\n",
    "y_test= to_categorical(y_test, num_classes)\n",
    "print(y_train)\n",
    "print(y_test)"
   ]
  },
  {
   "cell_type": "markdown",
   "metadata": {
    "id": "dV5KIWdu1yqS"
   },
   "source": [
    "**Multi Layer Perceptron Networks**"
   ]
  },
  {
   "cell_type": "code",
   "execution_count": null,
   "metadata": {
    "colab": {
     "base_uri": "https://localhost:8080/"
    },
    "id": "R0XtnWpCyi7h",
    "outputId": "db7c970b-27f6-4d86-ae3e-546898deb769"
   },
   "outputs": [
    {
     "data": {
      "text/plain": [
       "(884, 224, 224)"
      ]
     },
     "execution_count": 11,
     "metadata": {},
     "output_type": "execute_result"
    }
   ],
   "source": [
    " # Converting the image to grayscale\n",
    "image_grayscale_train = X_train.mean(axis=3).astype('float32')\n",
    "image_grayscale_test = X_test.mean(axis=3).astype('float32')\n",
    "image_grayscale_train.shape\n",
    "image_grayscale_test.shape"
   ]
  },
  {
   "cell_type": "code",
   "execution_count": null,
   "metadata": {
    "colab": {
     "base_uri": "https://localhost:8080/"
    },
    "id": "nhE8e_za2DTK",
    "outputId": "29f0a4d3-a61b-4813-a69e-a04cfd55a397"
   },
   "outputs": [
    {
     "name": "stdout",
     "output_type": "stream",
     "text": [
      "[[[0.74379086 0.74379086 0.74379086 ... 0.7490196  0.7490196  0.7490196 ]\n",
      "  [0.74379086 0.74379086 0.74379086 ... 0.7490196  0.7490196  0.7490196 ]\n",
      "  [0.74379086 0.74379086 0.74379086 ... 0.7490196  0.7490196  0.7490196 ]\n",
      "  ...\n",
      "  [0.53594774 0.53594774 0.53594774 ... 0.16078432 0.16078432 0.16078432]\n",
      "  [0.53594774 0.53594774 0.53594774 ... 0.16078432 0.16078432 0.16078432]\n",
      "  [0.53594774 0.53594774 0.53594774 ... 0.16078432 0.16078432 0.16078432]]\n",
      "\n",
      " [[0.3529412  0.3529412  0.3529412  ... 0.9986928  0.9986928  0.9986928 ]\n",
      "  [0.3529412  0.3529412  0.3529412  ... 0.9986928  0.9986928  0.9986928 ]\n",
      "  [0.3529412  0.3529412  0.3529412  ... 0.9986928  0.9986928  0.9986928 ]\n",
      "  ...\n",
      "  [0.62875813 0.62875813 0.62875813 ... 0.5856209  0.5856209  0.5856209 ]\n",
      "  [0.62875813 0.62875813 0.62875813 ... 0.5856209  0.5856209  0.5856209 ]\n",
      "  [0.62875813 0.62875813 0.62875813 ... 0.5856209  0.5856209  0.5856209 ]]\n",
      "\n",
      " [[0.6509804  0.6509804  0.6509804  ... 0.6771242  0.6771242  0.6771242 ]\n",
      "  [0.6509804  0.6509804  0.6509804  ... 0.6771242  0.6771242  0.6771242 ]\n",
      "  [0.6509804  0.6509804  0.6509804  ... 0.6771242  0.6771242  0.6771242 ]\n",
      "  ...\n",
      "  [0.4117647  0.4117647  0.4117647  ... 0.15294118 0.15294118 0.15294118]\n",
      "  [0.4117647  0.4117647  0.4117647  ... 0.15294118 0.15294118 0.15294118]\n",
      "  [0.4117647  0.4117647  0.4117647  ... 0.15294118 0.15294118 0.15294118]]\n",
      "\n",
      " ...\n",
      "\n",
      " [[0.34117648 0.34117648 0.34117648 ... 0.08496732 0.08496732 0.08496732]\n",
      "  [0.34117648 0.34117648 0.34117648 ... 0.08496732 0.08496732 0.08496732]\n",
      "  [0.34117648 0.34117648 0.34117648 ... 0.08496732 0.08496732 0.08496732]\n",
      "  ...\n",
      "  [0.42745098 0.42745098 0.42745098 ... 0.5294118  0.5294118  0.5294118 ]\n",
      "  [0.42745098 0.42745098 0.42745098 ... 0.5294118  0.5294118  0.5294118 ]\n",
      "  [0.42745098 0.42745098 0.42745098 ... 0.5294118  0.5294118  0.5294118 ]]\n",
      "\n",
      " [[0.00522876 0.00522876 0.00522876 ... 0.00392157 0.00392157 0.00392157]\n",
      "  [0.00522876 0.00522876 0.00522876 ... 0.00392157 0.00392157 0.00392157]\n",
      "  [0.00522876 0.00522876 0.00522876 ... 0.00392157 0.00392157 0.00392157]\n",
      "  ...\n",
      "  [0.06405229 0.06405229 0.06405229 ... 0.05359477 0.05359477 0.05359477]\n",
      "  [0.06405229 0.06405229 0.06405229 ... 0.05359477 0.05359477 0.05359477]\n",
      "  [0.06405229 0.06405229 0.06405229 ... 0.05359477 0.05359477 0.05359477]]\n",
      "\n",
      " [[0.41437906 0.41437906 0.41437906 ... 0.98039216 0.98039216 0.98039216]\n",
      "  [0.41437906 0.41437906 0.41437906 ... 0.98039216 0.98039216 0.98039216]\n",
      "  [0.41437906 0.41437906 0.41437906 ... 0.98039216 0.98039216 0.98039216]\n",
      "  ...\n",
      "  [0.3830065  0.3830065  0.3830065  ... 0.27712417 0.27712417 0.27712417]\n",
      "  [0.3830065  0.3830065  0.3830065  ... 0.27712417 0.27712417 0.27712417]\n",
      "  [0.3830065  0.3830065  0.3830065  ... 0.27712417 0.27712417 0.27712417]]]\n",
      "[[[0.9124183  0.9124183  0.9124183  ... 0.52418303 0.52418303 0.52418303]\n",
      "  [0.9124183  0.9124183  0.9124183  ... 0.52418303 0.52418303 0.52418303]\n",
      "  [0.9124183  0.9124183  0.9124183  ... 0.52418303 0.52418303 0.52418303]\n",
      "  ...\n",
      "  [0.579085   0.579085   0.579085   ... 0.7019608  0.7019608  0.7019608 ]\n",
      "  [0.579085   0.579085   0.579085   ... 0.7019608  0.7019608  0.7019608 ]\n",
      "  [0.579085   0.579085   0.579085   ... 0.7019608  0.7019608  0.7019608 ]]\n",
      "\n",
      " [[0.9973856  0.9973856  0.9973856  ... 0.9843137  0.9843137  0.9843137 ]\n",
      "  [0.9973856  0.9973856  0.9973856  ... 0.9843137  0.9843137  0.9843137 ]\n",
      "  [0.9973856  0.9973856  0.9973856  ... 0.9843137  0.9843137  0.9843137 ]\n",
      "  ...\n",
      "  [0.22745098 0.22745098 0.22745098 ... 0.2130719  0.2130719  0.2130719 ]\n",
      "  [0.22745098 0.22745098 0.22745098 ... 0.2130719  0.2130719  0.2130719 ]\n",
      "  [0.22745098 0.22745098 0.22745098 ... 0.2130719  0.2130719  0.2130719 ]]\n",
      "\n",
      " [[0.78300655 0.78300655 0.78300655 ... 0.4745098  0.4745098  0.4745098 ]\n",
      "  [0.78300655 0.78300655 0.78300655 ... 0.4745098  0.4745098  0.4745098 ]\n",
      "  [0.78300655 0.78300655 0.78300655 ... 0.4745098  0.4745098  0.4745098 ]\n",
      "  ...\n",
      "  [0.83398694 0.83398694 0.83398694 ... 0.29934642 0.29934642 0.29934642]\n",
      "  [0.83398694 0.83398694 0.83398694 ... 0.29934642 0.29934642 0.29934642]\n",
      "  [0.83398694 0.83398694 0.83398694 ... 0.29934642 0.29934642 0.29934642]]\n",
      "\n",
      " ...\n",
      "\n",
      " [[0.70849675 0.70849675 0.70849675 ... 0.22614379 0.22614379 0.22614379]\n",
      "  [0.70849675 0.70849675 0.70849675 ... 0.22614379 0.22614379 0.22614379]\n",
      "  [0.70849675 0.70849675 0.70849675 ... 0.22614379 0.22614379 0.22614379]\n",
      "  ...\n",
      "  [0.7751634  0.7751634  0.7751634  ... 0.6771242  0.6771242  0.6771242 ]\n",
      "  [0.7751634  0.7751634  0.7751634  ... 0.6771242  0.6771242  0.6771242 ]\n",
      "  [0.7751634  0.7751634  0.7751634  ... 0.6771242  0.6771242  0.6771242 ]]\n",
      "\n",
      " [[0.00653595 0.00653595 0.00653595 ... 0.00522876 0.00522876 0.00522876]\n",
      "  [0.00653595 0.00653595 0.00653595 ... 0.00522876 0.00522876 0.00522876]\n",
      "  [0.00653595 0.00653595 0.00653595 ... 0.00522876 0.00522876 0.00522876]\n",
      "  ...\n",
      "  [0.01045752 0.01045752 0.01045752 ... 0.00392157 0.00392157 0.00392157]\n",
      "  [0.01045752 0.01045752 0.01045752 ... 0.00392157 0.00392157 0.00392157]\n",
      "  [0.01045752 0.01045752 0.01045752 ... 0.00392157 0.00392157 0.00392157]]\n",
      "\n",
      " [[0.5908497  0.5908497  0.5908497  ... 0.44705883 0.44705883 0.44705883]\n",
      "  [0.5908497  0.5908497  0.5908497  ... 0.44705883 0.44705883 0.44705883]\n",
      "  [0.5908497  0.5908497  0.5908497  ... 0.44705883 0.44705883 0.44705883]\n",
      "  ...\n",
      "  [0.303268   0.303268   0.303268   ... 0.98169935 0.98169935 0.98169935]\n",
      "  [0.303268   0.303268   0.303268   ... 0.98169935 0.98169935 0.98169935]\n",
      "  [0.303268   0.303268   0.303268   ... 0.98169935 0.98169935 0.98169935]]]\n"
     ]
    }
   ],
   "source": [
    "# Scaling the grayscale images\n",
    "image_grayscale_train/=255\n",
    "image_grayscale_test/=255\n",
    "print(image_grayscale_train)\n",
    "print(image_grayscale_test)"
   ]
  },
  {
   "cell_type": "code",
   "execution_count": null,
   "metadata": {
    "colab": {
     "base_uri": "https://localhost:8080/"
    },
    "id": "gk0eQiND2Jva",
    "outputId": "bec3b50b-da5d-45e7-9cd6-441d241390db"
   },
   "outputs": [
    {
     "name": "stdout",
     "output_type": "stream",
     "text": [
      "Model: \"sequential\"\n",
      "_________________________________________________________________\n",
      " Layer (type)                Output Shape              Param #   \n",
      "=================================================================\n",
      " flatten (Flatten)           (None, 50176)             0         \n",
      "                                                                 \n",
      " dense (Dense)               (None, 64)                3211328   \n",
      "                                                                 \n",
      " dense_1 (Dense)             (None, 64)                4160      \n",
      "                                                                 \n",
      " dense_2 (Dense)             (None, 64)                4160      \n",
      "                                                                 \n",
      " dense_3 (Dense)             (None, 3)                 195       \n",
      "                                                                 \n",
      "=================================================================\n",
      "Total params: 3219843 (12.28 MB)\n",
      "Trainable params: 3219843 (12.28 MB)\n",
      "Non-trainable params: 0 (0.00 Byte)\n",
      "_________________________________________________________________\n",
      "Model: \"sequential_1\"\n",
      "_________________________________________________________________\n",
      " Layer (type)                Output Shape              Param #   \n",
      "=================================================================\n",
      " flatten_1 (Flatten)         (None, 50176)             0         \n",
      "                                                                 \n",
      " dense_4 (Dense)             (None, 128)               6422656   \n",
      "                                                                 \n",
      " dense_5 (Dense)             (None, 128)               16512     \n",
      "                                                                 \n",
      " dense_6 (Dense)             (None, 128)               16512     \n",
      "                                                                 \n",
      " dense_7 (Dense)             (None, 128)               16512     \n",
      "                                                                 \n",
      " dense_8 (Dense)             (None, 3)                 387       \n",
      "                                                                 \n",
      "=================================================================\n",
      "Total params: 6472579 (24.69 MB)\n",
      "Trainable params: 6472579 (24.69 MB)\n",
      "Non-trainable params: 0 (0.00 Byte)\n",
      "_________________________________________________________________\n",
      "Model: \"sequential_2\"\n",
      "_________________________________________________________________\n",
      " Layer (type)                Output Shape              Param #   \n",
      "=================================================================\n",
      " flatten_2 (Flatten)         (None, 50176)             0         \n",
      "                                                                 \n",
      " dense_9 (Dense)             (None, 256)               12845312  \n",
      "                                                                 \n",
      " dense_10 (Dense)            (None, 256)               65792     \n",
      "                                                                 \n",
      " dense_11 (Dense)            (None, 3)                 771       \n",
      "                                                                 \n",
      "=================================================================\n",
      "Total params: 12911875 (49.25 MB)\n",
      "Trainable params: 12911875 (49.25 MB)\n",
      "Non-trainable params: 0 (0.00 Byte)\n",
      "_________________________________________________________________\n"
     ]
    }
   ],
   "source": [
    "# Define MLP1 with two hidden layers of 64 neurons each and with activation function of relu for Dense layer and softmax function for output layer\n",
    "mlp1 = Sequential([\n",
    "    Flatten(input_shape=(224, 224)),\n",
    "    Dense(64, activation='relu'),\n",
    "    Dense(64, activation='relu'),\n",
    "    Dense(64, activation='relu'),\n",
    "    Dense(num_classes, activation='softmax')\n",
    "])\n",
    "\n",
    "# Define MLP2 with four hidden layers of 128 neurons each and with activation function of relu for Dense layer and softmax function for output layer\n",
    "mlp2 = Sequential([\n",
    "    Flatten(input_shape=(224, 224)),\n",
    "    Dense(128, activation='relu'),\n",
    "    Dense(128, activation='relu'),\n",
    "    Dense(128, activation='relu'),\n",
    "    Dense(128, activation='relu'),\n",
    "    Dense(num_classes, activation='softmax')\n",
    "])\n",
    "\n",
    "# Define MLP3 with two hidden layers of 256 neurons each and with activation function of relu for Dense layer and softmax function for output layer\n",
    "mlp3 = Sequential([\n",
    "    Flatten(input_shape=(224, 224)),\n",
    "    Dense(256, activation='relu'),\n",
    "    Dense(256, activation='relu'),\n",
    "    Dense(num_classes, activation='softmax')\n",
    "])\n",
    "\n",
    "mlp1.summary()\n",
    "mlp2.summary()\n",
    "mlp3.summary()"
   ]
  },
  {
   "cell_type": "code",
   "execution_count": null,
   "metadata": {
    "id": "o1zx8uYNU_kG"
   },
   "outputs": [],
   "source": [
    "# Compile the models with categorical cross-entropy loss and adam optimizer\n",
    "\n",
    "mlp1.compile(loss='categorical_crossentropy', optimizer='adam', metrics=['accuracy'])\n",
    "mlp2.compile(loss='categorical_crossentropy', optimizer='adam', metrics=['accuracy'])\n",
    "mlp3.compile(loss='categorical_crossentropy', optimizer='adam', metrics=['accuracy'])"
   ]
  },
  {
   "cell_type": "code",
   "execution_count": null,
   "metadata": {
    "colab": {
     "base_uri": "https://localhost:8080/"
    },
    "id": "VpvoMowDXJUE",
    "outputId": "e91db15b-8fe3-48ec-8988-08c22cecb8bd"
   },
   "outputs": [
    {
     "name": "stdout",
     "output_type": "stream",
     "text": [
      "Epoch 1/10\n",
      "65/65 [==============================] - 4s 21ms/step - loss: 1.5539 - accuracy: 0.5126 - val_loss: 1.4293 - val_accuracy: 0.5577\n",
      "Epoch 2/10\n",
      "65/65 [==============================] - 1s 13ms/step - loss: 1.0095 - accuracy: 0.5713 - val_loss: 0.8576 - val_accuracy: 0.5577\n",
      "Epoch 3/10\n",
      "65/65 [==============================] - 1s 13ms/step - loss: 0.8809 - accuracy: 0.5708 - val_loss: 0.7586 - val_accuracy: 0.6165\n",
      "Epoch 4/10\n",
      "65/65 [==============================] - 1s 10ms/step - loss: 0.8326 - accuracy: 0.5951 - val_loss: 0.7614 - val_accuracy: 0.6097\n",
      "Epoch 5/10\n",
      "65/65 [==============================] - 1s 9ms/step - loss: 0.8164 - accuracy: 0.5883 - val_loss: 0.9248 - val_accuracy: 0.5045\n",
      "Epoch 6/10\n",
      "65/65 [==============================] - 1s 9ms/step - loss: 0.8674 - accuracy: 0.6023 - val_loss: 0.8085 - val_accuracy: 0.5679\n",
      "Epoch 7/10\n",
      "65/65 [==============================] - 1s 9ms/step - loss: 0.7638 - accuracy: 0.6266 - val_loss: 0.7646 - val_accuracy: 0.6256\n",
      "Epoch 8/10\n",
      "65/65 [==============================] - 1s 12ms/step - loss: 0.7908 - accuracy: 0.6052 - val_loss: 0.9662 - val_accuracy: 0.4955\n",
      "Epoch 9/10\n",
      "65/65 [==============================] - 1s 9ms/step - loss: 0.7904 - accuracy: 0.6067 - val_loss: 0.7424 - val_accuracy: 0.6369\n",
      "Epoch 10/10\n",
      "65/65 [==============================] - 1s 9ms/step - loss: 0.7680 - accuracy: 0.6164 - val_loss: 0.7598 - val_accuracy: 0.6301\n",
      "Epoch 1/10\n",
      "65/65 [==============================] - 3s 18ms/step - loss: 1.7828 - accuracy: 0.5272 - val_loss: 0.9789 - val_accuracy: 0.4819\n",
      "Epoch 2/10\n",
      "65/65 [==============================] - 1s 10ms/step - loss: 0.9070 - accuracy: 0.5786 - val_loss: 0.7771 - val_accuracy: 0.5984\n",
      "Epoch 3/10\n",
      "65/65 [==============================] - 1s 10ms/step - loss: 0.8665 - accuracy: 0.5747 - val_loss: 0.8156 - val_accuracy: 0.5803\n",
      "Epoch 4/10\n",
      "65/65 [==============================] - 1s 13ms/step - loss: 0.8859 - accuracy: 0.5664 - val_loss: 0.7799 - val_accuracy: 0.5803\n",
      "Epoch 5/10\n",
      "65/65 [==============================] - 1s 14ms/step - loss: 0.7857 - accuracy: 0.6096 - val_loss: 0.7701 - val_accuracy: 0.6018\n",
      "Epoch 6/10\n",
      "65/65 [==============================] - 1s 15ms/step - loss: 0.8097 - accuracy: 0.5970 - val_loss: 0.7594 - val_accuracy: 0.6391\n",
      "Epoch 7/10\n",
      "65/65 [==============================] - 1s 12ms/step - loss: 0.8149 - accuracy: 0.6014 - val_loss: 0.7641 - val_accuracy: 0.6222\n",
      "Epoch 8/10\n",
      "65/65 [==============================] - 1s 10ms/step - loss: 0.7742 - accuracy: 0.6193 - val_loss: 0.7732 - val_accuracy: 0.5848\n",
      "Epoch 9/10\n",
      "65/65 [==============================] - 1s 10ms/step - loss: 0.7665 - accuracy: 0.6149 - val_loss: 0.9944 - val_accuracy: 0.4819\n",
      "Epoch 10/10\n",
      "65/65 [==============================] - 1s 10ms/step - loss: 0.7847 - accuracy: 0.5989 - val_loss: 0.7558 - val_accuracy: 0.6437\n",
      "Epoch 1/10\n",
      "65/65 [==============================] - 2s 19ms/step - loss: 4.7217 - accuracy: 0.5063 - val_loss: 0.9870 - val_accuracy: 0.6154\n",
      "Epoch 2/10\n",
      "65/65 [==============================] - 1s 12ms/step - loss: 1.2616 - accuracy: 0.5466 - val_loss: 1.4830 - val_accuracy: 0.5023\n",
      "Epoch 3/10\n",
      "65/65 [==============================] - 1s 11ms/step - loss: 1.0587 - accuracy: 0.5694 - val_loss: 1.1426 - val_accuracy: 0.5554\n",
      "Epoch 4/10\n",
      "65/65 [==============================] - 1s 11ms/step - loss: 0.8856 - accuracy: 0.5883 - val_loss: 0.9863 - val_accuracy: 0.5588\n",
      "Epoch 5/10\n",
      "65/65 [==============================] - 1s 13ms/step - loss: 0.7957 - accuracy: 0.6217 - val_loss: 0.7630 - val_accuracy: 0.6278\n",
      "Epoch 6/10\n",
      "65/65 [==============================] - 1s 14ms/step - loss: 0.8613 - accuracy: 0.5960 - val_loss: 0.8351 - val_accuracy: 0.6063\n",
      "Epoch 7/10\n",
      "65/65 [==============================] - 1s 15ms/step - loss: 0.8957 - accuracy: 0.5708 - val_loss: 0.8914 - val_accuracy: 0.5928\n",
      "Epoch 8/10\n",
      "65/65 [==============================] - 1s 11ms/step - loss: 0.8549 - accuracy: 0.6091 - val_loss: 0.9855 - val_accuracy: 0.5566\n",
      "Epoch 9/10\n",
      "65/65 [==============================] - 1s 11ms/step - loss: 0.7912 - accuracy: 0.6096 - val_loss: 0.7859 - val_accuracy: 0.5962\n",
      "Epoch 10/10\n",
      "65/65 [==============================] - 1s 11ms/step - loss: 0.7746 - accuracy: 0.6033 - val_loss: 0.8024 - val_accuracy: 0.6075\n"
     ]
    }
   ],
   "source": [
    "batch_size  = 32\n",
    "epochs      = 10\n",
    "\n",
    "mlp1_history = mlp1.fit(image_grayscale_train, y_train, batch_size=batch_size, epochs=epochs, verbose=1, validation_data=(image_grayscale_test, y_test))\n",
    "mlp2_history = mlp2.fit(image_grayscale_train, y_train, batch_size=batch_size, epochs=epochs, verbose=1, validation_data=(image_grayscale_test, y_test))\n",
    "mlp3_history = mlp3.fit(image_grayscale_train, y_train, batch_size=batch_size, epochs=epochs, verbose=1, validation_data=(image_grayscale_test, y_test))"
   ]
  },
  {
   "cell_type": "code",
   "execution_count": null,
   "metadata": {
    "colab": {
     "base_uri": "https://localhost:8080/"
    },
    "id": "7QYg5mj2XQiT",
    "outputId": "6cebc63c-c960-40fc-aa03-e8f78edf9369"
   },
   "outputs": [
    {
     "name": "stdout",
     "output_type": "stream",
     "text": [
      "  Model  Train Acc.  Test Acc.  Train Loss  Test Loss\n",
      "0  MLP1    0.616392   0.630090    0.768041   0.759842\n",
      "1  MLP2    0.598933   0.643665    0.784713   0.755824\n",
      "2  MLP3    0.603298   0.607466    0.774615   0.802383\n"
     ]
    }
   ],
   "source": [
    "# Train history\n",
    "histories = [mlp1_history, mlp2_history, mlp3_history]\n",
    "\n",
    "# Model names\n",
    "model_names = ['MLP1', 'MLP2', 'MLP3']\n",
    "\n",
    "# Create a dataframe for the train and validation history\n",
    "results = pd.DataFrame(columns=['Model', 'Train Acc.', 'Test Acc.', 'Train Loss', 'Test Loss'])\n",
    "\n",
    "# Populate the results dataframe\n",
    "for i, model_name in enumerate(model_names):\n",
    "    train_acc = histories[i].history['accuracy'][-1]\n",
    "    test_acc = histories[i].history['val_accuracy'][-1]\n",
    "    train_loss = histories[i].history['loss'][-1]\n",
    "    test_loss = histories[i].history['val_loss'][-1]\n",
    "    results.loc[i] = [model_name, train_acc, test_acc, train_loss, test_loss]\n",
    "\n",
    "print(results)"
   ]
  },
  {
   "cell_type": "code",
   "execution_count": null,
   "metadata": {
    "colab": {
     "base_uri": "https://localhost:8080/",
     "height": 455
    },
    "id": "asJgwCPQNng_",
    "outputId": "eb3250db-19c5-4973-9e6d-7e31d656fde2"
   },
   "outputs": [
    {
     "data": {
      "image/png": "[encoded data removed]",
      "text/plain": [
       "<Figure size 1200x500 with 2 Axes>"
      ]
     },
     "metadata": {},
     "output_type": "display_data"
    }
   ],
   "source": [
    "# Define training and validation metrics for MLP2\n",
    "acc = [0.5044, 0.5315, 0.5660, 0.5698, 0.5984, 0.6169, 0.6149, 0.6188, 0.6174, 0.6261]\n",
    "val_acc = [0.5679, 0.6244, 0.5837, 0.5814, 0.6346, 0.5611, 0.6278, 0.6369, 0.6357, 0.6290]\n",
    "loss = [6.4036, 1.5271, 0.9593, 0.9131, 0.8325, 0.7761, 0.8163, 0.7870, 0.7679, 0.7543]\n",
    "val_loss = [1.0460, 1.0755, 0.8748, 0.8471, 0.8172, 0.9157, 0.7685, 0.7952, 0.7754, 0.7882]\n",
    "epochs = range(1, 11)\n",
    "\n",
    "# Plot the graphs\n",
    "fig, (ax1, ax2) = plt.subplots(1, 2, figsize=(12,5))\n",
    "\n",
    "# Accuracy plot\n",
    "ax1.plot(epochs, acc, 'ro', label='Training acc')\n",
    "ax1.plot(epochs, val_acc, 'b', label='Validation acc')\n",
    "ax1.set_title('Training and validation accuracy')\n",
    "ax1.set_xlabel('Epochs')\n",
    "ax1.set_ylabel('Accuracy')\n",
    "ax1.legend()\n",
    "\n",
    "# Loss plot\n",
    "ax2.plot(epochs, loss, 'ro', label='Training loss')\n",
    "ax2.plot(epochs, val_loss, 'b', label='Validation loss')\n",
    "ax2.set_title('Training and validation loss')\n",
    "ax2.set_xlabel('Epochs')\n",
    "ax2.set_ylabel('Loss')\n",
    "ax2.legend()\n",
    "\n",
    "plt.show()"
   ]
  },
  {
   "cell_type": "markdown",
   "metadata": {
    "id": "hRogGML7bX7D"
   },
   "source": [
    "**Convolutional Neural Networks**"
   ]
  },
  {
   "cell_type": "code",
   "execution_count": 13,
   "metadata": {
    "colab": {
     "base_uri": "https://localhost:8080/"
    },
    "id": "Mkx5Nr6aY0c7",
    "outputId": "d7316740-4f32-4177-a4f7-448f061ef754"
   },
   "outputs": [
    {
     "name": "stdout",
     "output_type": "stream",
     "text": [
      "Model: \"sequential\"\n",
      "_________________________________________________________________\n",
      " Layer (type)                Output Shape              Param #   \n",
      "=================================================================\n",
      " conv2d (Conv2D)             (None, 224, 224, 32)      896       \n",
      "                                                                 \n",
      " max_pooling2d (MaxPooling2  (None, 112, 112, 32)      0         \n",
      " D)                                                              \n",
      "                                                                 \n",
      " conv2d_1 (Conv2D)           (None, 112, 112, 64)      18496     \n",
      "                                                                 \n",
      " max_pooling2d_1 (MaxPoolin  (None, 56, 56, 64)        0         \n",
      " g2D)                                                            \n",
      "                                                                 \n",
      " flatten (Flatten)           (None, 200704)            0         \n",
      "                                                                 \n",
      " dense (Dense)               (None, 64)                12845120  \n",
      "                                                                 \n",
      " dense_1 (Dense)             (None, 3)                 195       \n",
      "                                                                 \n",
      "=================================================================\n",
      "Total params: 12864707 (49.07 MB)\n",
      "Trainable params: 12864707 (49.07 MB)\n",
      "Non-trainable params: 0 (0.00 Byte)\n",
      "_________________________________________________________________\n",
      "Model: \"sequential_1\"\n",
      "_________________________________________________________________\n",
      " Layer (type)                Output Shape              Param #   \n",
      "=================================================================\n",
      " conv2d_2 (Conv2D)           (None, 222, 222, 32)      896       \n",
      "                                                                 \n",
      " max_pooling2d_2 (MaxPoolin  (None, 111, 111, 32)      0         \n",
      " g2D)                                                            \n",
      "                                                                 \n",
      " conv2d_3 (Conv2D)           (None, 109, 109, 64)      18496     \n",
      "                                                                 \n",
      " max_pooling2d_3 (MaxPoolin  (None, 54, 54, 64)        0         \n",
      " g2D)                                                            \n",
      "                                                                 \n",
      " flatten_1 (Flatten)         (None, 186624)            0         \n",
      "                                                                 \n",
      " dense_2 (Dense)             (None, 64)                11944000  \n",
      "                                                                 \n",
      " dense_3 (Dense)             (None, 3)                 195       \n",
      "                                                                 \n",
      "=================================================================\n",
      "Total params: 11963587 (45.64 MB)\n",
      "Trainable params: 11963587 (45.64 MB)\n",
      "Non-trainable params: 0 (0.00 Byte)\n",
      "_________________________________________________________________\n",
      "Model: \"sequential_2\"\n",
      "_________________________________________________________________\n",
      " Layer (type)                Output Shape              Param #   \n",
      "=================================================================\n",
      " conv2d_4 (Conv2D)           (None, 222, 222, 32)      896       \n",
      "                                                                 \n",
      " max_pooling2d_4 (MaxPoolin  (None, 111, 111, 32)      0         \n",
      " g2D)                                                            \n",
      "                                                                 \n",
      " conv2d_5 (Conv2D)           (None, 109, 109, 64)      18496     \n",
      "                                                                 \n",
      " max_pooling2d_5 (MaxPoolin  (None, 54, 54, 64)        0         \n",
      " g2D)                                                            \n",
      "                                                                 \n",
      " conv2d_6 (Conv2D)           (None, 52, 52, 128)       73856     \n",
      "                                                                 \n",
      " max_pooling2d_6 (MaxPoolin  (None, 26, 26, 128)       0         \n",
      " g2D)                                                            \n",
      "                                                                 \n",
      " flatten_2 (Flatten)         (None, 86528)             0         \n",
      "                                                                 \n",
      " dense_4 (Dense)             (None, 128)               11075712  \n",
      "                                                                 \n",
      " dense_5 (Dense)             (None, 3)                 387       \n",
      "                                                                 \n",
      "=================================================================\n",
      "Total params: 11169347 (42.61 MB)\n",
      "Trainable params: 11169347 (42.61 MB)\n",
      "Non-trainable params: 0 (0.00 Byte)\n",
      "_________________________________________________________________\n",
      "Model: \"sequential_3\"\n",
      "_________________________________________________________________\n",
      " Layer (type)                Output Shape              Param #   \n",
      "=================================================================\n",
      " conv2d_7 (Conv2D)           (None, 222, 222, 32)      896       \n",
      "                                                                 \n",
      " max_pooling2d_7 (MaxPoolin  (None, 111, 111, 32)      0         \n",
      " g2D)                                                            \n",
      "                                                                 \n",
      " conv2d_8 (Conv2D)           (None, 109, 109, 64)      18496     \n",
      "                                                                 \n",
      " max_pooling2d_8 (MaxPoolin  (None, 54, 54, 64)        0         \n",
      " g2D)                                                            \n",
      "                                                                 \n",
      " conv2d_9 (Conv2D)           (None, 52, 52, 128)       73856     \n",
      "                                                                 \n",
      " global_average_pooling2d (  (None, 128)               0         \n",
      " GlobalAveragePooling2D)                                         \n",
      "                                                                 \n",
      " dense_6 (Dense)             (None, 3)                 387       \n",
      "                                                                 \n",
      "=================================================================\n",
      "Total params: 93635 (365.76 KB)\n",
      "Trainable params: 93635 (365.76 KB)\n",
      "Non-trainable params: 0 (0.00 Byte)\n",
      "_________________________________________________________________\n",
      "Model: \"sequential_4\"\n",
      "_________________________________________________________________\n",
      " Layer (type)                Output Shape              Param #   \n",
      "=================================================================\n",
      " conv2d_10 (Conv2D)          (None, 222, 222, 32)      896       \n",
      "                                                                 \n",
      " batch_normalization (Batch  (None, 222, 222, 32)      128       \n",
      " Normalization)                                                  \n",
      "                                                                 \n",
      " max_pooling2d_9 (MaxPoolin  (None, 111, 111, 32)      0         \n",
      " g2D)                                                            \n",
      "                                                                 \n",
      " flatten_3 (Flatten)         (None, 394272)            0         \n",
      "                                                                 \n",
      " dense_7 (Dense)             (None, 64)                25233472  \n",
      "                                                                 \n",
      " batch_normalization_1 (Bat  (None, 64)                256       \n",
      " chNormalization)                                                \n",
      "                                                                 \n",
      " dense_8 (Dense)             (None, 3)                 195       \n",
      "                                                                 \n",
      "=================================================================\n",
      "Total params: 25234947 (96.26 MB)\n",
      "Trainable params: 25234755 (96.26 MB)\n",
      "Non-trainable params: 192 (768.00 Byte)\n",
      "_________________________________________________________________\n",
      "Model: \"sequential_5\"\n",
      "_________________________________________________________________\n",
      " Layer (type)                Output Shape              Param #   \n",
      "=================================================================\n",
      " conv2d_11 (Conv2D)          (None, 222, 222, 32)      896       \n",
      "                                                                 \n",
      " max_pooling2d_10 (MaxPooli  (None, 111, 111, 32)      0         \n",
      " ng2D)                                                           \n",
      "                                                                 \n",
      " dropout (Dropout)           (None, 111, 111, 32)      0         \n",
      "                                                                 \n",
      " conv2d_12 (Conv2D)          (None, 109, 109, 64)      18496     \n",
      "                                                                 \n",
      " max_pooling2d_11 (MaxPooli  (None, 54, 54, 64)        0         \n",
      " ng2D)                                                           \n",
      "                                                                 \n",
      " dropout_1 (Dropout)         (None, 54, 54, 64)        0         \n",
      "                                                                 \n",
      " conv2d_13 (Conv2D)          (None, 52, 52, 128)       73856     \n",
      "                                                                 \n",
      " max_pooling2d_12 (MaxPooli  (None, 26, 26, 128)       0         \n",
      " ng2D)                                                           \n",
      "                                                                 \n",
      " dropout_2 (Dropout)         (None, 26, 26, 128)       0         \n",
      "                                                                 \n",
      " conv2d_14 (Conv2D)          (None, 24, 24, 256)       295168    \n",
      "                                                                 \n",
      " max_pooling2d_13 (MaxPooli  (None, 12, 12, 256)       0         \n",
      " ng2D)                                                           \n",
      "                                                                 \n",
      " dropout_3 (Dropout)         (None, 12, 12, 256)       0         \n",
      "                                                                 \n",
      " flatten_4 (Flatten)         (None, 36864)             0         \n",
      "                                                                 \n",
      " dense_9 (Dense)             (None, 256)               9437440   \n",
      "                                                                 \n",
      " dropout_4 (Dropout)         (None, 256)               0         \n",
      "                                                                 \n",
      " dense_10 (Dense)            (None, 3)                 771       \n",
      "                                                                 \n",
      "=================================================================\n",
      "Total params: 9826627 (37.49 MB)\n",
      "Trainable params: 9826627 (37.49 MB)\n",
      "Non-trainable params: 0 (0.00 Byte)\n",
      "_________________________________________________________________\n"
     ]
    }
   ],
   "source": [
    "# Define CNN1 with 2 convolutional layers with Padding, max pooling, and 2 dense layers\n",
    "cnn1 = Sequential([\n",
    "    Conv2D(32, (3, 3), activation='relu', padding='same', input_shape=(224, 224, 3)),\n",
    "    MaxPooling2D((2, 2)),\n",
    "    Conv2D(64, (3, 3), activation='relu', padding='same', input_shape=(224, 224, 3)),\n",
    "    MaxPooling2D((2, 2)),\n",
    "    Flatten(),\n",
    "    Dense(64, activation='relu'),\n",
    "    Dense(num_classes, activation='softmax')\n",
    "])\n",
    "\n",
    "# Define CNN2 with 2 convolutional layers without Padding, max pooling, and 2 dense layers\n",
    "cnn2 = Sequential([\n",
    "    Conv2D(32, (3, 3), activation='relu', input_shape=(224, 224, 3)),\n",
    "    MaxPooling2D((2, 2)),\n",
    "    Conv2D(64, (3, 3), activation='relu'),\n",
    "    MaxPooling2D((2, 2)),\n",
    "    Flatten(),\n",
    "    Dense(64, activation='relu'),\n",
    "    Dense(num_classes, activation='softmax')\n",
    "])\n",
    "\n",
    "# Define CNN3 with 3 convolutional layers, max pooling, and 2 dense layers\n",
    "cnn3 = Sequential([\n",
    "    Conv2D(32, (3, 3), activation='relu', input_shape=(224, 224, 3)),\n",
    "    MaxPooling2D((2, 2)),\n",
    "    Conv2D(64, (3, 3), activation='relu'),\n",
    "    MaxPooling2D((2, 2)),\n",
    "    Conv2D(128, (3, 3), activation='relu'),\n",
    "    MaxPooling2D((2, 2)),\n",
    "    Flatten(),\n",
    "    Dense(128, activation='relu'),\n",
    "    Dense(num_classes, activation='softmax')\n",
    "])\n",
    "\n",
    "# Define CNN4 with 3 convolutional layers, max pooling, GlobalAveragePooling for last convolutional layer and 1 dense layer\n",
    "cnn4 = Sequential([\n",
    "    Conv2D(32, (3, 3), activation='relu', input_shape=(224, 224, 3)),\n",
    "    MaxPooling2D((2, 2)),\n",
    "    Conv2D(64, (3, 3), activation='relu'),\n",
    "    MaxPooling2D((2, 2)),\n",
    "    Conv2D(128, (3, 3), activation='relu'),\n",
    "    GlobalAveragePooling2D(),\n",
    "    Dense(num_classes, activation='softmax')\n",
    "])\n",
    "\n",
    "# Define CNN5 with 1 convolutional layer, max pooling, Batch Normalization and 1 dense layer\n",
    "cnn5 = Sequential([\n",
    "    Conv2D(32, (3, 3), activation='relu', input_shape=(224, 224, 3)),\n",
    "    BatchNormalization(),\n",
    "    MaxPooling2D((2, 2)),\n",
    "    Flatten(),\n",
    "    Dense(64, activation='relu'),\n",
    "    BatchNormalization(),\n",
    "    Dense(num_classes, activation='softmax')\n",
    "])\n",
    "\n",
    "# Define CNN6 with 4 convolutional layers, max pooling, dropout, and 2 dense layers\n",
    "cnn6 = Sequential([\n",
    "    Conv2D(32, (3, 3), activation='relu', input_shape=(224, 224, 3)),\n",
    "    MaxPooling2D((2, 2)),\n",
    "    Dropout(0.25),\n",
    "    Conv2D(64, (3, 3), activation='relu'),\n",
    "    MaxPooling2D((2, 2)),\n",
    "    Dropout(0.25),\n",
    "    Conv2D(128, (3, 3), activation='relu'),\n",
    "    MaxPooling2D((2, 2)),\n",
    "    Dropout(0.25),\n",
    "    Conv2D(256, (3, 3), activation='relu'),\n",
    "    MaxPooling2D((2, 2)),\n",
    "    Dropout(0.25),\n",
    "    Flatten(),\n",
    "    Dense(256, activation='relu'),\n",
    "    Dropout(0.5),\n",
    "    Dense(num_classes, activation='softmax')\n",
    "])\n",
    "\n",
    "cnn1.summary()\n",
    "cnn2.summary()\n",
    "cnn3.summary()\n",
    "cnn4.summary()\n",
    "cnn5.summary()\n",
    "cnn6.summary()"
   ]
  },
  {
   "cell_type": "code",
   "execution_count": 14,
   "metadata": {
    "id": "Zm4HTMG3hiPL"
   },
   "outputs": [],
   "source": [
    "# Compile the models with categorical cross-entropy loss and adam optimizer\n",
    "\n",
    "cnn1.compile(loss='categorical_crossentropy', optimizer='adam', metrics=['accuracy'])\n",
    "cnn2.compile(loss='categorical_crossentropy', optimizer='adam', metrics=['accuracy'])\n",
    "cnn3.compile(loss='categorical_crossentropy', optimizer='adam', metrics=['accuracy'])\n",
    "cnn4.compile(loss='categorical_crossentropy', optimizer='adam', metrics=['accuracy'])\n",
    "cnn5.compile(loss='categorical_crossentropy', optimizer='adam', metrics=['accuracy'])\n",
    "cnn6.compile(loss='categorical_crossentropy', optimizer='adam', metrics=['accuracy'])"
   ]
  },
  {
   "cell_type": "code",
   "execution_count": null,
   "metadata": {
    "colab": {
     "base_uri": "https://localhost:8080/"
    },
    "id": "artjOmRvh0H1",
    "outputId": "2be6b8be-e7e6-4a5c-e661-8f35e91ed88e"
   },
   "outputs": [
    {
     "name": "stdout",
     "output_type": "stream",
     "text": [
      "Epoch 1/10\n",
      "65/65 [==============================] - 5s 72ms/step - loss: 0.0502 - accuracy: 0.9884 - val_loss: 2.1382 - val_accuracy: 0.6505\n",
      "Epoch 2/10\n",
      "65/65 [==============================] - 3s 48ms/step - loss: 0.0394 - accuracy: 0.9908 - val_loss: 2.1748 - val_accuracy: 0.6403\n",
      "Epoch 3/10\n",
      "65/65 [==============================] - 3s 49ms/step - loss: 0.0352 - accuracy: 0.9913 - val_loss: 2.2481 - val_accuracy: 0.6606\n",
      "Epoch 4/10\n",
      "65/65 [==============================] - 3s 54ms/step - loss: 0.0453 - accuracy: 0.9903 - val_loss: 2.2349 - val_accuracy: 0.6663\n",
      "Epoch 5/10\n",
      "65/65 [==============================] - 3s 51ms/step - loss: 0.0634 - accuracy: 0.9845 - val_loss: 2.1813 - val_accuracy: 0.6414\n",
      "Epoch 6/10\n",
      "65/65 [==============================] - 3s 51ms/step - loss: 0.1567 - accuracy: 0.9719 - val_loss: 1.8281 - val_accuracy: 0.6606\n",
      "Epoch 7/10\n",
      "65/65 [==============================] - 3s 51ms/step - loss: 0.0961 - accuracy: 0.9816 - val_loss: 2.2781 - val_accuracy: 0.6380\n",
      "Epoch 8/10\n",
      "65/65 [==============================] - 3s 50ms/step - loss: 0.0893 - accuracy: 0.9835 - val_loss: 2.0869 - val_accuracy: 0.6459\n",
      "Epoch 9/10\n",
      "65/65 [==============================] - 3s 51ms/step - loss: 0.0562 - accuracy: 0.9840 - val_loss: 2.7266 - val_accuracy: 0.6595\n",
      "Epoch 10/10\n",
      "65/65 [==============================] - 3s 51ms/step - loss: 0.0899 - accuracy: 0.9816 - val_loss: 2.6946 - val_accuracy: 0.6471\n"
     ]
    }
   ],
   "source": [
    "batch_size  = 32\n",
    "epochs      = 10\n",
    "\n",
    "cnn1_history = cnn1.fit(X_train, y_train, batch_size=batch_size, epochs=epochs, verbose=1, validation_data=(X_test, y_test))\n",
    "cnn2_history = cnn2.fit(X_train, y_train, batch_size=batch_size, epochs=epochs, verbose=1, validation_data=(X_test, y_test))"
   ]
  },
  {
   "cell_type": "code",
   "execution_count": null,
   "metadata": {
    "colab": {
     "base_uri": "https://localhost:8080/"
    },
    "id": "XL3dHIDvcwdI",
    "outputId": "6af4d725-341d-4755-d65d-34b045178b4c"
   },
   "outputs": [
    {
     "name": "stdout",
     "output_type": "stream",
     "text": [
      "Epoch 1/10\n",
      "65/65 [==============================] - 12s 100ms/step - loss: 48.6195 - accuracy: 0.5044 - val_loss: 0.8122 - val_accuracy: 0.5577\n",
      "Epoch 2/10\n",
      "65/65 [==============================] - 5s 72ms/step - loss: 0.8024 - accuracy: 0.5970 - val_loss: 0.8008 - val_accuracy: 0.6029\n",
      "Epoch 3/10\n",
      "65/65 [==============================] - 4s 62ms/step - loss: 0.6678 - accuracy: 0.6877 - val_loss: 0.7509 - val_accuracy: 0.6380\n",
      "Epoch 4/10\n",
      "65/65 [==============================] - 4s 56ms/step - loss: 0.5191 - accuracy: 0.7604 - val_loss: 0.7952 - val_accuracy: 0.6414\n",
      "Epoch 5/10\n",
      "65/65 [==============================] - 4s 60ms/step - loss: 0.3971 - accuracy: 0.8312 - val_loss: 0.9010 - val_accuracy: 0.6584\n",
      "Epoch 6/10\n",
      "65/65 [==============================] - 4s 56ms/step - loss: 0.2874 - accuracy: 0.8860 - val_loss: 1.1609 - val_accuracy: 0.6550\n",
      "Epoch 7/10\n",
      "65/65 [==============================] - 4s 59ms/step - loss: 0.2112 - accuracy: 0.9180 - val_loss: 1.3658 - val_accuracy: 0.6561\n",
      "Epoch 8/10\n",
      "65/65 [==============================] - 4s 59ms/step - loss: 0.1432 - accuracy: 0.9471 - val_loss: 1.5341 - val_accuracy: 0.6538\n",
      "Epoch 9/10\n",
      "65/65 [==============================] - 4s 60ms/step - loss: 0.1071 - accuracy: 0.9680 - val_loss: 1.7419 - val_accuracy: 0.6742\n",
      "Epoch 10/10\n",
      "65/65 [==============================] - 4s 57ms/step - loss: 0.0701 - accuracy: 0.9825 - val_loss: 2.2085 - val_accuracy: 0.6618\n",
      "Epoch 1/10\n",
      "65/65 [==============================] - 7s 75ms/step - loss: 2.0681 - accuracy: 0.5073 - val_loss: 0.8503 - val_accuracy: 0.5566\n",
      "Epoch 2/10\n",
      "65/65 [==============================] - 4s 55ms/step - loss: 0.8351 - accuracy: 0.5310 - val_loss: 0.8205 - val_accuracy: 0.5645\n",
      "Epoch 3/10\n",
      "65/65 [==============================] - 4s 58ms/step - loss: 0.8265 - accuracy: 0.5577 - val_loss: 0.8007 - val_accuracy: 0.5633\n",
      "Epoch 4/10\n",
      "65/65 [==============================] - 4s 55ms/step - loss: 0.8182 - accuracy: 0.5592 - val_loss: 0.8115 - val_accuracy: 0.5679\n",
      "Epoch 5/10\n",
      "65/65 [==============================] - 4s 55ms/step - loss: 0.8124 - accuracy: 0.5635 - val_loss: 0.7805 - val_accuracy: 0.5882\n",
      "Epoch 6/10\n",
      "65/65 [==============================] - 3s 53ms/step - loss: 0.8193 - accuracy: 0.5601 - val_loss: 0.8177 - val_accuracy: 0.5724\n",
      "Epoch 7/10\n",
      "65/65 [==============================] - 4s 58ms/step - loss: 0.8140 - accuracy: 0.5718 - val_loss: 0.8046 - val_accuracy: 0.5724\n",
      "Epoch 8/10\n",
      "65/65 [==============================] - 3s 54ms/step - loss: 0.8092 - accuracy: 0.5727 - val_loss: 0.8173 - val_accuracy: 0.5679\n",
      "Epoch 9/10\n",
      "65/65 [==============================] - 3s 53ms/step - loss: 0.7998 - accuracy: 0.5761 - val_loss: 0.7911 - val_accuracy: 0.5792\n",
      "Epoch 10/10\n",
      "65/65 [==============================] - 4s 55ms/step - loss: 0.8147 - accuracy: 0.5533 - val_loss: 0.7949 - val_accuracy: 0.5656\n"
     ]
    }
   ],
   "source": [
    "batch_size  = 32\n",
    "epochs      = 10\n",
    "\n",
    "cnn3_history = cnn3.fit(X_train, y_train, batch_size=batch_size, epochs=epochs, verbose=1, validation_data=(X_test, y_test))\n",
    "cnn4_history = cnn4.fit(X_train, y_train, batch_size=batch_size, epochs=epochs, verbose=1, validation_data=(X_test, y_test))"
   ]
  },
  {
   "cell_type": "code",
   "execution_count": null,
   "metadata": {
    "colab": {
     "base_uri": "https://localhost:8080/"
    },
    "id": "PlpONw2jcwQk",
    "outputId": "abe46f37-f826-4e12-ecf6-5fdf059a7558"
   },
   "outputs": [
    {
     "name": "stdout",
     "output_type": "stream",
     "text": [
      "Epoch 1/10\n",
      "65/65 [==============================] - 9s 74ms/step - loss: 1.4819 - accuracy: 0.5548 - val_loss: 1.7414 - val_accuracy: 0.5068\n",
      "Epoch 2/10\n",
      "65/65 [==============================] - 3s 50ms/step - loss: 0.5829 - accuracy: 0.7852 - val_loss: 0.9152 - val_accuracy: 0.6459\n",
      "Epoch 3/10\n",
      "65/65 [==============================] - 3s 54ms/step - loss: 0.3316 - accuracy: 0.8919 - val_loss: 0.8485 - val_accuracy: 0.6324\n",
      "Epoch 4/10\n",
      "65/65 [==============================] - 3s 53ms/step - loss: 0.1956 - accuracy: 0.9457 - val_loss: 0.8733 - val_accuracy: 0.6606\n",
      "Epoch 5/10\n",
      "65/65 [==============================] - 3s 54ms/step - loss: 0.1238 - accuracy: 0.9661 - val_loss: 0.8185 - val_accuracy: 0.7036\n",
      "Epoch 6/10\n",
      "65/65 [==============================] - 3s 50ms/step - loss: 0.0960 - accuracy: 0.9777 - val_loss: 0.9448 - val_accuracy: 0.6652\n",
      "Epoch 7/10\n",
      "65/65 [==============================] - 4s 54ms/step - loss: 0.0704 - accuracy: 0.9816 - val_loss: 2.1252 - val_accuracy: 0.5826\n",
      "Epoch 8/10\n",
      "65/65 [==============================] - 3s 51ms/step - loss: 0.0761 - accuracy: 0.9850 - val_loss: 0.9953 - val_accuracy: 0.6799\n",
      "Epoch 9/10\n",
      "65/65 [==============================] - 3s 54ms/step - loss: 0.0523 - accuracy: 0.9893 - val_loss: 0.9355 - val_accuracy: 0.6912\n",
      "Epoch 10/10\n",
      "65/65 [==============================] - 3s 53ms/step - loss: 0.0426 - accuracy: 0.9908 - val_loss: 1.0846 - val_accuracy: 0.6957\n",
      "Epoch 1/10\n",
      "65/65 [==============================] - 11s 122ms/step - loss: 59.2791 - accuracy: 0.5213 - val_loss: 1.0305 - val_accuracy: 0.5566\n",
      "Epoch 2/10\n",
      "65/65 [==============================] - 6s 95ms/step - loss: 0.9426 - accuracy: 0.5407 - val_loss: 0.9393 - val_accuracy: 0.5566\n",
      "Epoch 3/10\n",
      "65/65 [==============================] - 6s 96ms/step - loss: 0.8933 - accuracy: 0.5306 - val_loss: 0.8443 - val_accuracy: 0.5566\n",
      "Epoch 4/10\n",
      "65/65 [==============================] - 6s 95ms/step - loss: 0.8490 - accuracy: 0.5383 - val_loss: 0.8211 - val_accuracy: 0.5566\n",
      "Epoch 5/10\n",
      "65/65 [==============================] - 6s 98ms/step - loss: 0.8343 - accuracy: 0.5388 - val_loss: 0.8131 - val_accuracy: 0.5566\n",
      "Epoch 6/10\n",
      "65/65 [==============================] - 6s 97ms/step - loss: 0.8322 - accuracy: 0.5335 - val_loss: 0.8127 - val_accuracy: 0.5566\n",
      "Epoch 7/10\n",
      "65/65 [==============================] - 6s 97ms/step - loss: 0.8379 - accuracy: 0.5369 - val_loss: 0.8113 - val_accuracy: 0.5566\n",
      "Epoch 8/10\n",
      "65/65 [==============================] - 6s 94ms/step - loss: 0.8363 - accuracy: 0.5373 - val_loss: 0.8106 - val_accuracy: 0.5566\n",
      "Epoch 9/10\n",
      "65/65 [==============================] - 6s 96ms/step - loss: 0.8344 - accuracy: 0.5398 - val_loss: 0.8108 - val_accuracy: 0.5566\n",
      "Epoch 10/10\n",
      "65/65 [==============================] - 6s 97ms/step - loss: 0.8352 - accuracy: 0.5378 - val_loss: 0.8109 - val_accuracy: 0.5566\n"
     ]
    }
   ],
   "source": [
    "batch_size  = 32\n",
    "epochs      = 10\n",
    "\n",
    "cnn5_history = cnn5.fit(X_train, y_train, batch_size=batch_size, epochs=epochs, verbose=1, validation_data=(X_test, y_test))\n",
    "cnn6_history = cnn6.fit(X_train, y_train, batch_size=batch_size, epochs=epochs, verbose=1, validation_data=(X_test, y_test))"
   ]
  },
  {
   "cell_type": "code",
   "execution_count": null,
   "metadata": {
    "colab": {
     "base_uri": "https://localhost:8080/"
    },
    "id": "Qwn1yxqocwDr",
    "outputId": "f3746307-92f8-4790-e0af-335cf9d5ca27"
   },
   "outputs": [
    {
     "name": "stdout",
     "output_type": "stream",
     "text": [
      "  Model  Train Acc.  Test Acc.  Train Loss  Test Loss\n",
      "0  CNN1    0.986906   0.649321    0.082941   1.757216\n",
      "1  CNN2    0.980601   0.635747    0.076200   2.171284\n"
     ]
    }
   ],
   "source": [
    "# Train history\n",
    "histories = [cnn1_history, cnn2_history]\n",
    "\n",
    "# Model names\n",
    "model_names = ['CNN1', 'CNN2']\n",
    "\n",
    "# Create a dataframe for the train and validation history\n",
    "results = pd.DataFrame(columns=['Model', 'Train Acc.', 'Test Acc.', 'Train Loss', 'Test Loss'])\n",
    "\n",
    "# Populate the results dataframe\n",
    "for i, model_name in enumerate(model_names):\n",
    "    train_acc = histories[i].history['accuracy'][-1]\n",
    "    test_acc = histories[i].history['val_accuracy'][-1]\n",
    "    train_loss = histories[i].history['loss'][-1]\n",
    "    test_loss = histories[i].history['val_loss'][-1]\n",
    "    results.loc[i] = [model_name, train_acc, test_acc, train_loss, test_loss]\n",
    "\n",
    "print(results)"
   ]
  },
  {
   "cell_type": "code",
   "execution_count": null,
   "metadata": {
    "colab": {
     "base_uri": "https://localhost:8080/"
    },
    "id": "qTDociwjfaX5",
    "outputId": "32d2cbb6-2887-43ff-c095-f9274af13891"
   },
   "outputs": [
    {
     "name": "stdout",
     "output_type": "stream",
     "text": [
      "  Model  Train Acc.  Test Acc.  Train Loss  Test Loss\n",
      "0  CNN3    0.982541   0.661765    0.070057   2.208540\n",
      "1  CNN4    0.553346   0.565611    0.814723   0.794872\n"
     ]
    }
   ],
   "source": [
    "# Train history\n",
    "histories = [cnn3_history, cnn4_history]\n",
    "\n",
    "# Model names\n",
    "model_names = ['CNN3', 'CNN4']\n",
    "\n",
    "# Create a dataframe for the train and validation history\n",
    "results = pd.DataFrame(columns=['Model', 'Train Acc.', 'Test Acc.', 'Train Loss', 'Test Loss'])\n",
    "\n",
    "# Populate the results dataframe\n",
    "for i, model_name in enumerate(model_names):\n",
    "    train_acc = histories[i].history['accuracy'][-1]\n",
    "    test_acc = histories[i].history['val_accuracy'][-1]\n",
    "    train_loss = histories[i].history['loss'][-1]\n",
    "    test_loss = histories[i].history['val_loss'][-1]\n",
    "    results.loc[i] = [model_name, train_acc, test_acc, train_loss, test_loss]\n",
    "\n",
    "print(results)"
   ]
  },
  {
   "cell_type": "code",
   "execution_count": null,
   "metadata": {
    "colab": {
     "base_uri": "https://localhost:8080/"
    },
    "id": "QNi2KlyeffBZ",
    "outputId": "f4895a1f-7f2a-4107-f552-440d8310da76"
   },
   "outputs": [
    {
     "name": "stdout",
     "output_type": "stream",
     "text": [
      "  Model  Train Acc.  Test Acc.  Train Loss  Test Loss\n",
      "0  CNN5    0.990786   0.695701    0.042618   1.084589\n",
      "1  CNN6    0.537827   0.556561    0.835174   0.810910\n"
     ]
    }
   ],
   "source": [
    "# Train history\n",
    "histories = [cnn5_history, cnn6_history]\n",
    "\n",
    "# Model names\n",
    "model_names = ['CNN5', 'CNN6']\n",
    "\n",
    "# Create a dataframe for the train and validation history\n",
    "results = pd.DataFrame(columns=['Model', 'Train Acc.', 'Test Acc.', 'Train Loss', 'Test Loss'])\n",
    "\n",
    "# Populate the results dataframe\n",
    "for i, model_name in enumerate(model_names):\n",
    "    train_acc = histories[i].history['accuracy'][-1]\n",
    "    test_acc = histories[i].history['val_accuracy'][-1]\n",
    "    train_loss = histories[i].history['loss'][-1]\n",
    "    test_loss = histories[i].history['val_loss'][-1]\n",
    "    results.loc[i] = [model_name, train_acc, test_acc, train_loss, test_loss]\n",
    "\n",
    "print(results)"
   ]
  },
  {
   "cell_type": "code",
   "execution_count": null,
   "metadata": {
    "colab": {
     "base_uri": "https://localhost:8080/",
     "height": 459
    },
    "id": "9pnyn1z6Seze",
    "outputId": "6c28e618-6d2c-446a-a17f-9dcd6779d870"
   },
   "outputs": [
    {
     "data": {
      "image/png": "[encoded data removed]",
      "text/plain": [
       "<Figure size 1200x500 with 2 Axes>"
      ]
     },
     "metadata": {},
     "output_type": "display_data"
    }
   ],
   "source": [
    "# Define training and validation metrics for CNN5\n",
    "acc = [0.5548, 0.7852, 0.8919, 0.9457, 0.9661, 0.9777, 0.9816, 0.9850, 0.9893, 0.9908]\n",
    "val_acc = [0.5068, 0.6459, 0.6324, 0.6606, 0.7036, 0.6652, 0.5826, 0.6799, 0.6912, 0.6957]\n",
    "loss = [1.4819, 0.5829, 0.3316, 0.1956, 0.1238, 0.0960, 0.0704, 0.0761, 0.0523, 0.0426]\n",
    "val_loss = [1.7414, 0.9152, 0.8485, 0.8733, 0.8185, 0.9448, 2.1252, 0.9953, 0.9355, 1.0846]\n",
    "epochs = range(1, 11)\n",
    "\n",
    "# Plot the graphs\n",
    "fig, (ax1, ax2) = plt.subplots(1, 2, figsize=(12,5))\n",
    "\n",
    "# Accuracy plot\n",
    "ax1.plot(epochs, acc, 'ro', label='Training acc')\n",
    "ax1.plot(epochs, val_acc, 'b', label='Validation acc')\n",
    "ax1.set_title('Training and validation accuracy')\n",
    "ax1.set_xlabel('Epochs')\n",
    "ax1.set_ylabel('Accuracy')\n",
    "ax1.legend()\n",
    "\n",
    "# Loss plot\n",
    "ax2.plot(epochs, loss, 'ro', label='Training loss')\n",
    "ax2.plot(epochs, val_loss, 'b', label='Validation loss')\n",
    "ax2.set_title('Training and validation loss')\n",
    "ax2.set_xlabel('Epochs')\n",
    "ax2.set_ylabel('Loss')\n",
    "ax2.legend()\n",
    "\n",
    "plt.show()"
   ]
  },
  {
   "cell_type": "markdown",
   "metadata": {
    "id": "NYqlSZZ8X1IE"
   },
   "source": [
    "DATA AUGMENTATION"
   ]
  },
  {
   "cell_type": "markdown",
   "metadata": {
    "id": "hySKXRw6ZgK5"
   },
   "source": [
    "With Adam Optimizer"
   ]
  },
  {
   "cell_type": "code",
   "execution_count": null,
   "metadata": {
    "colab": {
     "base_uri": "https://localhost:8080/"
    },
    "id": "3vBAKBl7Sein",
    "outputId": "2cecfa9b-0b84-4787-80c9-f11f8ad698a6"
   },
   "outputs": [
    {
     "name": "stdout",
     "output_type": "stream",
     "text": [
      "Epoch 1/10\n",
      "64/64 [==============================] - 30s 389ms/step - loss: 1.4332 - accuracy: 0.4847 - val_loss: 1.1678 - val_accuracy: 0.5633\n",
      "Epoch 2/10\n",
      "64/64 [==============================] - 23s 366ms/step - loss: 0.9125 - accuracy: 0.5773 - val_loss: 1.1018 - val_accuracy: 0.5328\n",
      "Epoch 3/10\n",
      "64/64 [==============================] - 23s 365ms/step - loss: 0.8255 - accuracy: 0.6202 - val_loss: 1.2247 - val_accuracy: 0.4966\n",
      "Epoch 4/10\n",
      "64/64 [==============================] - 22s 346ms/step - loss: 0.7782 - accuracy: 0.6325 - val_loss: 0.8764 - val_accuracy: 0.6052\n",
      "Epoch 5/10\n",
      "64/64 [==============================] - 23s 356ms/step - loss: 0.7722 - accuracy: 0.6207 - val_loss: 1.1947 - val_accuracy: 0.5577\n",
      "Epoch 6/10\n",
      "64/64 [==============================] - 23s 364ms/step - loss: 0.7725 - accuracy: 0.6365 - val_loss: 0.8495 - val_accuracy: 0.5645\n",
      "Epoch 7/10\n",
      "64/64 [==============================] - 23s 362ms/step - loss: 0.7502 - accuracy: 0.6271 - val_loss: 0.7599 - val_accuracy: 0.6222\n",
      "Epoch 8/10\n",
      "64/64 [==============================] - 23s 364ms/step - loss: 0.7300 - accuracy: 0.6424 - val_loss: 1.5164 - val_accuracy: 0.4514\n",
      "Epoch 9/10\n",
      "64/64 [==============================] - 23s 363ms/step - loss: 0.7492 - accuracy: 0.6384 - val_loss: 0.8982 - val_accuracy: 0.6143\n",
      "Epoch 10/10\n",
      "64/64 [==============================] - 23s 361ms/step - loss: 0.7229 - accuracy: 0.6567 - val_loss: 1.2540 - val_accuracy: 0.5611\n",
      "Test loss: 1.2540302276611328\n",
      "Test accuracy: 0.5610859990119934\n"
     ]
    }
   ],
   "source": [
    "# Define data augmentation parameters\n",
    "train_datagen = ImageDataGenerator(\n",
    "    rotation_range=20,\n",
    "    width_shift_range=0.1,\n",
    "    height_shift_range=0.1,\n",
    "    shear_range=0.2,\n",
    "    zoom_range=0.2,\n",
    "    horizontal_flip=True,\n",
    "    fill_mode='nearest'\n",
    ")\n",
    "\n",
    "# Define early stopping callback\n",
    "early_stop = EarlyStopping(patience=10, restore_best_weights=True)\n",
    "\n",
    "# Compile the cnn5 model\n",
    "cnn5.compile(optimizer='adam', loss='categorical_crossentropy', metrics=['accuracy'])\n",
    "\n",
    "# Train the model with data augmentation and early stopping\n",
    "history = cnn5.fit(\n",
    "    train_datagen.flow(X_train, y_train, batch_size=32),\n",
    "    steps_per_epoch=len(X_train) // 32,\n",
    "    epochs=10,\n",
    "    validation_data=(X_test, y_test),\n",
    "    callbacks=[early_stop]\n",
    ")\n",
    "\n",
    "score = cnn5.evaluate(X_test, y_test, verbose=0)\n",
    "\n",
    "print('Test loss:',     score[0])\n",
    "print('Test accuracy:', score[1])"
   ]
  },
  {
   "cell_type": "markdown",
   "metadata": {
    "id": "0FXOoX6KeBzL"
   },
   "source": [
    "With RMSProp"
   ]
  },
  {
   "cell_type": "code",
   "execution_count": null,
   "metadata": {
    "colab": {
     "base_uri": "https://localhost:8080/"
    },
    "id": "dvH7pkmeZyoz",
    "outputId": "bc7dbbd6-371b-4c10-e19f-b8bd3ba76167"
   },
   "outputs": [
    {
     "name": "stdout",
     "output_type": "stream",
     "text": [
      "Epoch 1/10\n",
      "64/64 [==============================] - 26s 376ms/step - loss: 0.7238 - accuracy: 0.6458 - val_loss: 0.8424 - val_accuracy: 0.6052\n",
      "Epoch 2/10\n",
      "64/64 [==============================] - 22s 346ms/step - loss: 0.7233 - accuracy: 0.6567 - val_loss: 0.9166 - val_accuracy: 0.5735\n",
      "Epoch 3/10\n",
      "64/64 [==============================] - 24s 366ms/step - loss: 0.7064 - accuracy: 0.6729 - val_loss: 0.7970 - val_accuracy: 0.6459\n",
      "Epoch 4/10\n",
      "64/64 [==============================] - 23s 361ms/step - loss: 0.7186 - accuracy: 0.6502 - val_loss: 0.7749 - val_accuracy: 0.6437\n",
      "Epoch 5/10\n",
      "64/64 [==============================] - 23s 357ms/step - loss: 0.7030 - accuracy: 0.6645 - val_loss: 0.9507 - val_accuracy: 0.5679\n",
      "Epoch 6/10\n",
      "64/64 [==============================] - 22s 348ms/step - loss: 0.6955 - accuracy: 0.6704 - val_loss: 0.7645 - val_accuracy: 0.6527\n",
      "Epoch 7/10\n",
      "64/64 [==============================] - 23s 351ms/step - loss: 0.6898 - accuracy: 0.6660 - val_loss: 0.8240 - val_accuracy: 0.6154\n",
      "Epoch 8/10\n",
      "64/64 [==============================] - 23s 355ms/step - loss: 0.6988 - accuracy: 0.6690 - val_loss: 0.7171 - val_accuracy: 0.6719\n",
      "Epoch 9/10\n",
      "64/64 [==============================] - 23s 364ms/step - loss: 0.6893 - accuracy: 0.6764 - val_loss: 1.1686 - val_accuracy: 0.6154\n",
      "Epoch 10/10\n",
      "64/64 [==============================] - 23s 360ms/step - loss: 0.7192 - accuracy: 0.6542 - val_loss: 0.9509 - val_accuracy: 0.5792\n",
      "Test loss: 0.9509133100509644\n",
      "Test accuracy: 0.5791855454444885\n"
     ]
    }
   ],
   "source": [
    "# Define data augmentation parameters\n",
    "train_datagen = ImageDataGenerator(\n",
    "    rotation_range=20,\n",
    "    width_shift_range=0.1,\n",
    "    height_shift_range=0.1,\n",
    "    shear_range=0.2,\n",
    "    zoom_range=0.2,\n",
    "    horizontal_flip=True,\n",
    "    fill_mode='nearest'\n",
    ")\n",
    "\n",
    "# Define early stopping callback\n",
    "early_stop = EarlyStopping(patience=10, monitor='val_loss')\n",
    "\n",
    "# Compile the cnn5 model\n",
    "cnn5.compile(optimizer='rmsprop', loss='categorical_crossentropy', metrics=['accuracy'])\n",
    "\n",
    "# Train the model with data augmentation and early stopping\n",
    "history = cnn5.fit(\n",
    "    train_datagen.flow(X_train, y_train, batch_size=32),\n",
    "    steps_per_epoch=len(X_train) // 32,\n",
    "    epochs=10,\n",
    "    validation_data=(X_test, y_test),\n",
    "    callbacks=[early_stop]\n",
    ")\n",
    "\n",
    "score = cnn5.evaluate(X_test, y_test, verbose=0)\n",
    "\n",
    "print('Test loss:',     score[0])\n",
    "print('Test accuracy:', score[1])"
   ]
  },
  {
   "cell_type": "markdown",
   "metadata": {
    "id": "UgasGcIQfppX"
   },
   "source": [
    "SGD Optimizer"
   ]
  },
  {
   "cell_type": "code",
   "execution_count": null,
   "metadata": {
    "colab": {
     "base_uri": "https://localhost:8080/"
    },
    "id": "7i9uGeTifo_w",
    "outputId": "a5541972-a3db-436c-f273-7569e96a824c"
   },
   "outputs": [
    {
     "name": "stderr",
     "output_type": "stream",
     "text": [
      "WARNING:absl:`lr` is deprecated in Keras optimizer, please use `learning_rate` or use the legacy optimizer, e.g.,tf.keras.optimizers.legacy.SGD.\n"
     ]
    },
    {
     "name": "stdout",
     "output_type": "stream",
     "text": [
      "Epoch 1/10\n",
      "64/64 [==============================] - 26s 388ms/step - loss: 0.8226 - accuracy: 0.5719 - val_loss: 2.0835 - val_accuracy: 0.4186\n",
      "Epoch 2/10\n",
      "64/64 [==============================] - 23s 365ms/step - loss: 0.8144 - accuracy: 0.5729 - val_loss: 2.4345 - val_accuracy: 0.4140\n",
      "Epoch 3/10\n",
      "64/64 [==============================] - 23s 357ms/step - loss: 0.7960 - accuracy: 0.5877 - val_loss: 1.2292 - val_accuracy: 0.5566\n",
      "Epoch 4/10\n",
      "64/64 [==============================] - 23s 353ms/step - loss: 0.7862 - accuracy: 0.6138 - val_loss: 5.2887 - val_accuracy: 0.4027\n",
      "Epoch 5/10\n",
      "64/64 [==============================] - 24s 369ms/step - loss: 0.7884 - accuracy: 0.5911 - val_loss: 1.0168 - val_accuracy: 0.4785\n",
      "Epoch 6/10\n",
      "64/64 [==============================] - 23s 365ms/step - loss: 0.7761 - accuracy: 0.5985 - val_loss: 0.8127 - val_accuracy: 0.5758\n",
      "Epoch 7/10\n",
      "64/64 [==============================] - 23s 357ms/step - loss: 0.7796 - accuracy: 0.5852 - val_loss: 0.8605 - val_accuracy: 0.5667\n",
      "Epoch 8/10\n",
      "64/64 [==============================] - 23s 367ms/step - loss: 0.7626 - accuracy: 0.6113 - val_loss: 1.0748 - val_accuracy: 0.5566\n",
      "Epoch 9/10\n",
      "64/64 [==============================] - 23s 364ms/step - loss: 0.7514 - accuracy: 0.6271 - val_loss: 1.1400 - val_accuracy: 0.5532\n",
      "Epoch 10/10\n",
      "64/64 [==============================] - 23s 359ms/step - loss: 0.7698 - accuracy: 0.6182 - val_loss: 0.8201 - val_accuracy: 0.5848\n",
      "Test loss: 0.8200782537460327\n",
      "Test accuracy: 0.5848416090011597\n"
     ]
    }
   ],
   "source": [
    "#Define data augmentation parameters\n",
    "train_datagen = ImageDataGenerator(\n",
    "    rotation_range=20,\n",
    "    width_shift_range=0.1,\n",
    "    height_shift_range=0.1,\n",
    "    shear_range=0.1,\n",
    "    zoom_range=0.1,\n",
    "    horizontal_flip=True,\n",
    "    vertical_flip=True,\n",
    "    fill_mode='nearest'\n",
    ")\n",
    "\n",
    "# Define early stopping callback\n",
    "early_stop = EarlyStopping(patience=10, restore_best_weights=True)\n",
    "\n",
    "# Compile the model with SGD optimizer\n",
    "cnn5.compile(optimizer=SGD(lr=0.01), loss='categorical_crossentropy', metrics=['accuracy'])\n",
    "\n",
    "# Train the model with data augmentation and early stopping\n",
    "history = cnn5.fit(\n",
    "    train_datagen.flow(X_train, y_train, batch_size=32),\n",
    "    steps_per_epoch=len(X_train) // 32,\n",
    "    epochs=10,\n",
    "    validation_data=(X_test, y_test),\n",
    "    callbacks=[early_stop]\n",
    ")\n",
    "\n",
    "score = cnn5.evaluate(X_test, y_test, verbose=0)\n",
    "\n",
    "print('Test loss:',     score[0])\n",
    "print('Test accuracy:', score[1])"
   ]
  },
  {
   "cell_type": "code",
   "execution_count": null,
   "metadata": {
    "colab": {
     "base_uri": "https://localhost:8080/",
     "height": 455
    },
    "id": "8I4_cmAFfwkf",
    "outputId": "549755fb-b648-4c0d-b8f1-f464734c7269"
   },
   "outputs": [
    {
     "data": {
      "image/png": "[encoded data removed]",
      "text/plain": [
       "<Figure size 1200x500 with 2 Axes>"
      ]
     },
     "metadata": {},
     "output_type": "display_data"
    }
   ],
   "source": [
    "# Define training and validation metrics for CNN5 with Data augmentation with SGD\n",
    "acc = [0.5719, 0.5729, 0.5877, 0.6138, 0.5911, 0.5985, 0.5852, 0.6113, 0.6271, 0.6182]\n",
    "val_acc = [0.4186, 0.4140, 0.5566, 0.4027, 0.4785, 0.5758, 0.5667, 0.5566, 0.5532, 0.5848]\n",
    "loss = [0.8226, 0.8144, 0.7960, 0.7862, 0.7884, 0.7761, 0.7796, 0.7626, 0.7514, 0.7698]\n",
    "val_loss = [2.0835, 2.4345, 1.2292, 5.2887, 1.0168, 0.8127, 0.8605, 1.0748, 1.1400, 0.8201]\n",
    "epochs = range(1, 11)\n",
    "\n",
    "# Plot the graphs\n",
    "fig, (ax1, ax2) = plt.subplots(1, 2, figsize=(12,5))\n",
    "\n",
    "# Accuracy plot\n",
    "ax1.plot(epochs, acc, 'ro', label='Training acc')\n",
    "ax1.plot(epochs, val_acc, 'b', label='Validation acc')\n",
    "ax1.set_title('Training and validation accuracy')\n",
    "ax1.set_xlabel('Epochs')\n",
    "ax1.set_ylabel('Accuracy')\n",
    "ax1.legend()\n",
    "\n",
    "# Loss plot\n",
    "ax2.plot(epochs, loss, 'ro', label='Training loss')\n",
    "ax2.plot(epochs, val_loss, 'b', label='Validation loss')\n",
    "ax2.set_title('Training and validation loss')\n",
    "ax2.set_xlabel('Epochs')\n",
    "ax2.set_ylabel('Loss')\n",
    "ax2.legend()\n",
    "\n",
    "plt.show()"
   ]
  },
  {
   "cell_type": "code",
   "execution_count": 31,
   "metadata": {
    "id": "5s7cjlL3rj7p"
   },
   "outputs": [],
   "source": [
    "# Deconvolution\n",
    "def visualize_deconvolution(cnn5, image):\n",
    "    analyzer = innvestigate.create_analyzer(\"deep_taylor\", cnn5)\n",
    "    analysis = analyzer.analyze(image)\n",
    "    return analysis"
   ]
  },
  {
   "cell_type": "code",
   "execution_count": 21,
   "metadata": {
    "id": "yq2RB4WysEc-"
   },
   "outputs": [],
   "source": [
    "# Activation Maximization\n",
    "def visualize_activation_maximization(cnn5, layer_name, filter_index, input_shape=(224, 224, 3)):\n",
    "    # Define a loss function that maximizes the activation of the specified filter\n",
    "    loss = K.mean(cnn5.output[:, filter_index])\n",
    "\n",
    "    # Compute the gradient of the input picture with respect to this loss\n",
    "    with tf.GradientTape() as tape:\n",
    "        layer_output = cnn5.get_layer(layer_name).output\n",
    "        grads = tape.gradient(loss, layer_output)\n",
    "\n",
    "    # Normalize the gradient\n",
    "    grads /= (K.sqrt(K.mean(K.square(grads))) + 1e-5)\n",
    "\n",
    "    # This function returns the loss and grads given the input picture\n",
    "    iterate = K.function([cnn5.input], [loss, grads])\n",
    "\n",
    "    # Start from a gray image with some noise\n",
    "    input_img_data = np.random.random((1, input_shape[0], input_shape[1], input_shape[2])) * 20 + 128.0\n",
    "\n",
    "    # Run gradient ascent for 20 steps\n",
    "    step = 1.0\n",
    "    for i in range(20):\n",
    "        loss_value, grads_value = iterate([input_img_data])\n",
    "        input_img_data += grads_value * step\n",
    "\n",
    "    # Convert the image to a displayable format\n",
    "    img = input_img_data[0]\n",
    "    img = (img - img.min()) / (img.max() - img.min()) * 255\n",
    "    img = img.astype('uint8')\n",
    "\n",
    "    return img\n"
   ]
  },
  {
   "cell_type": "code",
   "execution_count": 17,
   "metadata": {
    "id": "sLUQmqIIsZvu"
   },
   "outputs": [],
   "source": [
    "# Choosing a sample image from the test set\n",
    "sample_index = 0\n",
    "sample_image = X_test[sample_index].reshape(1, 224, 224, 3)"
   ]
  },
  {
   "cell_type": "code",
   "execution_count": 19,
   "metadata": {
    "id": "Z4pmBftDsiek"
   },
   "outputs": [],
   "source": [
    "sys.setrecursionlimit(10**6)"
   ]
  },
  {
   "cell_type": "code",
   "execution_count": 33,
   "metadata": {
    "colab": {
     "base_uri": "https://localhost:8080/",
     "height": 53
    },
    "id": "JeYMRvEKtoc0",
    "outputId": "06a91888-71f4-4916-d5a2-9e9d6bb87cc9"
   },
   "outputs": [
    {
     "data": {
      "application/vnd.google.colaboratory.intrinsic+json": {
       "type": "string"
      },
      "text/plain": [
       "\"\\nactivation_maximization_img = visualize_activation_maximization(cnn5, 'conv2d_10', 0)\\nplt.imshow(activation_maximization_img)\\nplt.title('Activation Maximization')\\nplt.show()\\n\""
      ]
     },
     "execution_count": 33,
     "metadata": {},
     "output_type": "execute_result"
    }
   ],
   "source": [
    "# Visualize Activation Maximization\n",
    "'''\n",
    "activation_maximization_img = visualize_activation_maximization(cnn5, 'conv2d_10', 0)\n",
    "plt.imshow(activation_maximization_img)\n",
    "plt.title('Activation Maximization')\n",
    "plt.show()\n",
    "'''"
   ]
  },
  {
   "cell_type": "markdown",
   "metadata": {
    "id": "k4TqfB4ltsqV"
   },
   "source": [
    "The following error was faced:\n",
    "AttributeError: 'KerasTensor' object has no attribute '_id'"
   ]
  },
  {
   "cell_type": "code",
   "execution_count": 34,
   "metadata": {
    "colab": {
     "base_uri": "https://localhost:8080/",
     "height": 36
    },
    "id": "AcJzE4tBv2I_",
    "outputId": "21d6c695-3294-4bf5-9f4d-48a67be4ccad"
   },
   "outputs": [
    {
     "data": {
      "application/vnd.google.colaboratory.intrinsic+json": {
       "type": "string"
      },
      "text/plain": [
       "\"\\ndeconvolution_img = visualize_deconvolution(cnn5, sample_image)\\nplt.imshow(deconvolution_img)\\nplt.title('Deconvolution')\\nplt.show()\\n\""
      ]
     },
     "execution_count": 34,
     "metadata": {},
     "output_type": "execute_result"
    }
   ],
   "source": [
    "# Visualize Deconvolution\n",
    "'''\n",
    "deconvolution_img = visualize_deconvolution(cnn5, sample_image)\n",
    "plt.imshow(deconvolution_img)\n",
    "plt.title('Deconvolution')\n",
    "plt.show()\n",
    "'''"
   ]
  },
  {
   "cell_type": "markdown",
   "metadata": {
    "id": "YkYtXKMev-D4"
   },
   "source": [
    "The following error was faced: NotAnalyzeableModelException: This analysis method does not support softmax layers.\n",
    "Check triggered by layers: [<keras.src.layers.core.dense.Dense object at 0x7a470c6dbd30>]"
   ]
  },
  {
   "cell_type": "markdown",
   "metadata": {
    "id": "TjV3HKpwrkgJ"
   },
   "source": [
    "## **Transfer learning**"
   ]
  },
  {
   "cell_type": "code",
   "execution_count": null,
   "metadata": {
    "colab": {
     "base_uri": "https://localhost:8080/"
    },
    "id": "JyNG3AJftYHZ",
    "outputId": "f0ccb36d-09a0-4ca9-e473-664a0afbedf9"
   },
   "outputs": [
    {
     "name": "stdout",
     "output_type": "stream",
     "text": [
      "Downloading data from https://storage.googleapis.com/tensorflow/keras-applications/resnet/resnet50_weights_tf_dim_ordering_tf_kernels_notop.h5\n",
      "94765736/94765736 [==============================] - 0s 0us/step\n",
      "Epoch 1/10\n",
      "64/64 [==============================] - 411s 6s/step - loss: 0.8870 - accuracy: 0.5601 - val_loss: 0.7311 - val_accuracy: 0.6697\n",
      "Epoch 2/10\n",
      "64/64 [==============================] - 397s 6s/step - loss: 0.7904 - accuracy: 0.5877 - val_loss: 0.7729 - val_accuracy: 0.6075\n",
      "Epoch 3/10\n",
      "64/64 [==============================] - 348s 5s/step - loss: 0.7732 - accuracy: 0.6207 - val_loss: 0.7349 - val_accuracy: 0.6391\n",
      "Epoch 4/10\n",
      "64/64 [==============================] - 391s 6s/step - loss: 0.7568 - accuracy: 0.6197 - val_loss: 0.7677 - val_accuracy: 0.6380\n",
      "Epoch 5/10\n",
      "64/64 [==============================] - 389s 6s/step - loss: 0.7629 - accuracy: 0.6232 - val_loss: 0.7463 - val_accuracy: 0.6052\n",
      "Epoch 6/10\n",
      "64/64 [==============================] - 344s 5s/step - loss: 0.7532 - accuracy: 0.6281 - val_loss: 0.7443 - val_accuracy: 0.6222\n",
      "Epoch 7/10\n",
      "64/64 [==============================] - 344s 5s/step - loss: 0.7277 - accuracy: 0.6507 - val_loss: 0.7002 - val_accuracy: 0.6663\n",
      "Epoch 8/10\n",
      "64/64 [==============================] - 386s 6s/step - loss: 0.7225 - accuracy: 0.6517 - val_loss: 0.6957 - val_accuracy: 0.6482\n",
      "Epoch 9/10\n",
      "64/64 [==============================] - 339s 5s/step - loss: 0.7166 - accuracy: 0.6621 - val_loss: 0.6890 - val_accuracy: 0.6629\n",
      "Epoch 10/10\n",
      "64/64 [==============================] - 368s 6s/step - loss: 0.7094 - accuracy: 0.6680 - val_loss: 0.7901 - val_accuracy: 0.6210\n",
      "Test loss: 0.7901043891906738\n",
      "Test accuracy: 0.6210407018661499\n"
     ]
    }
   ],
   "source": [
    "# Load the ResNet50 model without the top layer\n",
    "resnet = ResNet50(include_top=False, pooling='avg', input_shape=(224, 224, 3))\n",
    "\n",
    "# Freeze the weights of the ResNet50 model\n",
    "for layer in resnet.layers:\n",
    "    layer.trainable = False\n",
    "\n",
    "# Add new classification layers\n",
    "model = Sequential()\n",
    "model.add(resnet)\n",
    "model.add(Dense(512, activation='relu'))\n",
    "model.add(Dense(256, activation='relu'))\n",
    "model.add(Dense(128, activation='relu'))\n",
    "model.add(Dense(3, activation='softmax'))\n",
    "\n",
    "# Compile the model\n",
    "model.compile(optimizer='adam', loss='categorical_crossentropy', metrics=['accuracy'])\n",
    "\n",
    "# Define data augmentation parameters\n",
    "train_datagen = ImageDataGenerator(\n",
    "    rotation_range=30,\n",
    "    width_shift_range=0.1,\n",
    "    height_shift_range=0.1,\n",
    "    shear_range=0.2,\n",
    "    zoom_range=0.2,\n",
    "    horizontal_flip=True,\n",
    "    fill_mode='nearest'\n",
    ")\n",
    "\n",
    "# Define early stopping callback\n",
    "early_stop = EarlyStopping(patience=10, restore_best_weights=True)\n",
    "\n",
    "# Train the model with data augmentation and early stopping\n",
    "history = model.fit(\n",
    "    train_datagen.flow(X_train, y_train, batch_size=32),\n",
    "    steps_per_epoch=len(X_train) // 32,\n",
    "    epochs=10,\n",
    "    validation_data=(X_test, y_test),\n",
    "    callbacks=[early_stop]\n",
    ")\n",
    "\n",
    "score = model.evaluate(X_test, y_test, verbose=0)\n",
    "\n",
    "print('Test loss:', score[0])\n",
    "print('Test accuracy:', score[1])"
   ]
  },
  {
   "cell_type": "code",
   "execution_count": null,
   "metadata": {
    "colab": {
     "base_uri": "https://localhost:8080/"
    },
    "id": "qamcuph7wX0I",
    "outputId": "3796e0e5-c499-4f07-83c6-8eacde5f7d05"
   },
   "outputs": [
    {
     "name": "stdout",
     "output_type": "stream",
     "text": [
      "Downloading data from https://storage.googleapis.com/tensorflow/keras-applications/mobilenet_v2/mobilenet_v2_weights_tf_dim_ordering_tf_kernels_1.0_224_no_top.h5\n",
      "9406464/9406464 [==============================] - 0s 0us/step\n"
     ]
    },
    {
     "name": "stderr",
     "output_type": "stream",
     "text": [
      "WARNING:absl:`lr` is deprecated in Keras optimizer, please use `learning_rate` or use the legacy optimizer, e.g.,tf.keras.optimizers.legacy.Adam.\n"
     ]
    },
    {
     "name": "stdout",
     "output_type": "stream",
     "text": [
      "Epoch 1/30\n",
      "64/64 [==============================] - 123s 2s/step - loss: 0.9005 - accuracy: 0.5103 - val_loss: 0.8183 - val_accuracy: 0.5079 - lr: 0.0010\n",
      "Epoch 2/30\n",
      "64/64 [==============================] - 127s 2s/step - loss: 0.8321 - accuracy: 0.5517 - val_loss: 0.8014 - val_accuracy: 0.5588 - lr: 0.0010\n",
      "Epoch 3/30\n",
      "64/64 [==============================] - 126s 2s/step - loss: 0.8147 - accuracy: 0.5665 - val_loss: 0.8354 - val_accuracy: 0.5475 - lr: 0.0010\n",
      "Epoch 4/30\n",
      "64/64 [==============================] - 128s 2s/step - loss: 0.8038 - accuracy: 0.5990 - val_loss: 0.7733 - val_accuracy: 0.5814 - lr: 0.0010\n",
      "Epoch 5/30\n",
      "64/64 [==============================] - 114s 2s/step - loss: 0.7954 - accuracy: 0.5837 - val_loss: 0.7784 - val_accuracy: 0.5758 - lr: 0.0010\n",
      "Epoch 6/30\n",
      "64/64 [==============================] - 118s 2s/step - loss: 0.7975 - accuracy: 0.5887 - val_loss: 0.8132 - val_accuracy: 0.5747 - lr: 0.0010\n",
      "Epoch 7/30\n",
      "64/64 [==============================] - 116s 2s/step - loss: 0.7866 - accuracy: 0.5951 - val_loss: 0.7822 - val_accuracy: 0.5645 - lr: 0.0010\n",
      "Epoch 8/30\n",
      "64/64 [==============================] - 129s 2s/step - loss: 0.7692 - accuracy: 0.6153 - val_loss: 0.7766 - val_accuracy: 0.5814 - lr: 1.0000e-04\n",
      "Epoch 9/30\n",
      "64/64 [==============================] - 129s 2s/step - loss: 0.7622 - accuracy: 0.6163 - val_loss: 0.7689 - val_accuracy: 0.6222 - lr: 1.0000e-04\n",
      "Epoch 10/30\n",
      "64/64 [==============================] - 117s 2s/step - loss: 0.7595 - accuracy: 0.6138 - val_loss: 0.7680 - val_accuracy: 0.6154 - lr: 1.0000e-04\n",
      "Epoch 11/30\n",
      "64/64 [==============================] - 129s 2s/step - loss: 0.7568 - accuracy: 0.6212 - val_loss: 0.7667 - val_accuracy: 0.6199 - lr: 1.0000e-04\n",
      "Epoch 12/30\n",
      "64/64 [==============================] - 118s 2s/step - loss: 0.7591 - accuracy: 0.6020 - val_loss: 0.7686 - val_accuracy: 0.6097 - lr: 1.0000e-04\n",
      "Epoch 13/30\n",
      "64/64 [==============================] - 129s 2s/step - loss: 0.7495 - accuracy: 0.6266 - val_loss: 0.7680 - val_accuracy: 0.6188 - lr: 1.0000e-04\n",
      "Epoch 14/30\n",
      "64/64 [==============================] - 129s 2s/step - loss: 0.7591 - accuracy: 0.6143 - val_loss: 0.7743 - val_accuracy: 0.6063 - lr: 1.0000e-04\n",
      "Epoch 15/30\n",
      "64/64 [==============================] - 128s 2s/step - loss: 0.7480 - accuracy: 0.6276 - val_loss: 0.7692 - val_accuracy: 0.6199 - lr: 1.0000e-05\n",
      "Epoch 16/30\n",
      "64/64 [==============================] - 130s 2s/step - loss: 0.7453 - accuracy: 0.6241 - val_loss: 0.7673 - val_accuracy: 0.6210 - lr: 1.0000e-05\n",
      "Epoch 17/30\n",
      "64/64 [==============================] - 128s 2s/step - loss: 0.7459 - accuracy: 0.6340 - val_loss: 0.7679 - val_accuracy: 0.6188 - lr: 1.0000e-05\n",
      "Epoch 18/30\n",
      "64/64 [==============================] - 129s 2s/step - loss: 0.7460 - accuracy: 0.6260 - val_loss: 0.7677 - val_accuracy: 0.6199 - lr: 1.0000e-06\n",
      "Epoch 19/30\n",
      "64/64 [==============================] - 117s 2s/step - loss: 0.7515 - accuracy: 0.6192 - val_loss: 0.7676 - val_accuracy: 0.6188 - lr: 1.0000e-06\n",
      "Epoch 20/30\n",
      "64/64 [==============================] - 128s 2s/step - loss: 0.7517 - accuracy: 0.6241 - val_loss: 0.7677 - val_accuracy: 0.6188 - lr: 1.0000e-06\n",
      "Epoch 21/30\n",
      "64/64 [==============================] - 128s 2s/step - loss: 0.7451 - accuracy: 0.6187 - val_loss: 0.7677 - val_accuracy: 0.6188 - lr: 1.0000e-07\n",
      "Test loss: 0.7667416930198669\n",
      "Test accuracy: 0.6199095249176025\n"
     ]
    }
   ],
   "source": [
    "# Load MobileNetV2 model without top layer\n",
    "base_model = MobileNetV2(include_top=False, pooling='avg', input_shape=(224, 224, 3))\n",
    "\n",
    "# Freeze the weights of the base model\n",
    "for layer in base_model.layers:\n",
    "    layer.trainable = False\n",
    "\n",
    "# Add new classification layers\n",
    "model = Sequential([\n",
    "    base_model,\n",
    "    Dense(512, activation='relu'),\n",
    "    Dense(256, activation='relu'),\n",
    "    Dense(128, activation='relu'),\n",
    "    Dense(3, activation='softmax')\n",
    "])\n",
    "\n",
    "# Data augmentation\n",
    "train_datagen = ImageDataGenerator(\n",
    "    rotation_range=30,\n",
    "    width_shift_range=0.1,\n",
    "    height_shift_range=0.1,\n",
    "    shear_range=0.2,\n",
    "    zoom_range=0.2,\n",
    "    horizontal_flip=True,\n",
    "    fill_mode='nearest'\n",
    ")\n",
    "\n",
    "# Learning rate scheduler\n",
    "lr_scheduler = ReduceLROnPlateau(monitor='val_loss', factor=0.1, patience=3)\n",
    "\n",
    "# Early stopping callback\n",
    "early_stop = EarlyStopping(patience=10, restore_best_weights=True)\n",
    "\n",
    "# Compile the model\n",
    "model.compile(optimizer=Adam(lr=0.001), loss='categorical_crossentropy', metrics=['accuracy'])\n",
    "\n",
    "# Train the model\n",
    "history = model.fit(\n",
    "    train_datagen.flow(X_train, y_train, batch_size=32),\n",
    "    steps_per_epoch=len(X_train) // 32,\n",
    "    epochs=30,\n",
    "    validation_data=(X_test, y_test),\n",
    "    callbacks=[early_stop, lr_scheduler]\n",
    ")\n",
    "\n",
    "# Evaluate the model\n",
    "score = model.evaluate(X_test, y_test, verbose=0)\n",
    "\n",
    "print('Test loss:', score[0])\n",
    "print('Test accuracy:', score[1])\n"
   ]
  },
  {
   "cell_type": "code",
   "execution_count": 1,
   "metadata": {
    "colab": {
     "base_uri": "https://localhost:8080/",
     "height": 1000
    },
    "id": "9kCLpaAC1UoR",
    "outputId": "cacde54f-55b4-4faf-81fd-20ae30bca0c8"
   },
   "outputs": [
    {
     "data": {
      "image/png": "[encoded data removed]",
      "text/plain": [
       "<Figure size 1200x800 with 1 Axes>"
      ]
     },
     "metadata": {},
     "output_type": "display_data"
    },
    {
     "data": {
      "image/png": "[encoded data removed]",
      "text/plain": [
       "<Figure size 1200x800 with 1 Axes>"
      ]
     },
     "metadata": {},
     "output_type": "display_data"
    }
   ],
   "source": [
    "# Data\n",
    "models = ['MLP1', 'MLP2', 'MLP3', 'CNN1', 'CNN2', 'CNN3', 'CNN4', 'CNN5', 'CNN6']\n",
    "train_acc = [0.616392, 0.598933, 0.603298, 0.986906, 0.980601, 0.982541, 0.553346, 0.990786, 0.537827]\n",
    "test_acc = [0.63009, 0.643665, 0.607466, 0.649321, 0.635747, 0.661765, 0.565611, 0.695701, 0.556561]\n",
    "train_loss = [0.768041, 0.784713, 0.774615, 0.082941, 0.0762, 0.070057, 0.814723, 0.042618, 0.835174]\n",
    "test_loss = [0.759842, 0.755824, 0.802383, 1.757216, 2.171284, 2.20854, 0.794872, 1.084589, 0.81091]\n",
    "\n",
    "x = np.arange(len(models))  # the label locations\n",
    "width = 0.35  # the width of the bars\n",
    "\n",
    "fig, ax = plt.subplots(figsize=(12, 8))\n",
    "\n",
    "# Plotting accuracy\n",
    "rects1 = ax.bar(x - width/2, train_acc, width, label='Train Accuracy')\n",
    "rects2 = ax.bar(x + width/2, test_acc, width, label='Test Accuracy')\n",
    "\n",
    "# Add some text for labels, title, and custom x-axis tick labels, etc.\n",
    "ax.set_xlabel('Models')\n",
    "ax.set_ylabel('Accuracy')\n",
    "ax.set_title('Training and Test Accuracy by Model')\n",
    "ax.set_xticks(x)\n",
    "ax.set_xticklabels(models, rotation=45, ha='right')\n",
    "ax.legend()\n",
    "\n",
    "# Plotting loss\n",
    "fig, ax = plt.subplots(figsize=(12, 8))\n",
    "rects3 = ax.bar(x - width/2, train_loss, width, label='Train Loss')\n",
    "rects4 = ax.bar(x + width/2, test_loss, width, label='Test Loss')\n",
    "\n",
    "# Add some text for labels, title, and custom x-axis tick labels, etc.\n",
    "ax.set_xlabel('Models')\n",
    "ax.set_ylabel('Loss')\n",
    "ax.set_title('Training and Test Loss by Model')\n",
    "ax.set_xticks(x)\n",
    "ax.set_xticklabels(models, rotation=45, ha='right')\n",
    "ax.legend()\n",
    "\n",
    "plt.show()"
   ]
  },
  {
   "cell_type": "code",
   "execution_count": null,
   "metadata": {
    "id": "rhKhXP_WGQkT"
   },
   "outputs": [],
   "source": []
  }
 ],
 "metadata": {
  "accelerator": "GPU",
  "colab": {
   "gpuType": "T4",
   "provenance": []
  },
  "kernelspec": {
   "display_name": "Python 3 (ipykernel)",
   "language": "python",
   "name": "python3"
  },
  "language_info": {
   "codemirror_mode": {
    "name": "ipython",
    "version": 3
   },
   "file_extension": ".py",
   "mimetype": "text/x-python",
   "name": "python",
   "nbconvert_exporter": "python",
   "pygments_lexer": "ipython3",
   "version": "3.11.5"
  }
 },
 "nbformat": 4,
 "nbformat_minor": 4
}
